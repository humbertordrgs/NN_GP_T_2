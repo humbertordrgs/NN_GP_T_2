{
 "cells": [
  {
   "cell_type": "code",
   "execution_count": 33,
   "metadata": {},
   "outputs": [
    {
     "name": "stdout",
     "output_type": "stream",
     "text": [
      "Requirement already satisfied: plotly in /home/humberto/anaconda3/envs/DL_T_1_3_7/lib/python3.7/site-packages (4.13.0)\n",
      "Requirement already satisfied: retrying>=1.3.3 in /home/humberto/anaconda3/envs/DL_T_1_3_7/lib/python3.7/site-packages (from plotly) (1.3.3)\n",
      "Requirement already satisfied: six in /home/humberto/anaconda3/envs/DL_T_1_3_7/lib/python3.7/site-packages (from plotly) (1.15.0)\n",
      "Requirement already satisfied: numpy in /home/humberto/anaconda3/envs/DL_T_1_3_7/lib/python3.7/site-packages (1.19.1)\n",
      "Collecting package metadata (current_repodata.json): done\n",
      "Solving environment: done\n",
      "\n",
      "\n",
      "==> WARNING: A newer version of conda exists. <==\n",
      "  current version: 4.8.5\n",
      "  latest version: 4.9.2\n",
      "\n",
      "Please update conda by running\n",
      "\n",
      "    $ conda update -n base -c defaults conda\n",
      "\n",
      "\n",
      "\n",
      "# All requested packages already installed.\n",
      "\n"
     ]
    }
   ],
   "source": [
    "!pip install plotly\n",
    "!pip install numpy\n",
    "!conda install -c plotly plotly-orca -y\n",
    "!conda install psutil -y"
   ]
  },
  {
   "cell_type": "code",
   "execution_count": 34,
   "metadata": {
    "id": "WkB5NZxnvSfU"
   },
   "outputs": [],
   "source": [
    "import torch\n",
    "import random\n",
    "import numpy as np\n",
    "import torch.nn as nn\n",
    "import torch.optim as optim\n",
    "from torchvision.datasets import MNIST\n",
    "from torchvision.transforms import ToTensor\n",
    "from torch.utils.data import Dataset, DataLoader\n",
    "from utils.GeneticEngine import GeneticEngine\n",
    "\n",
    "import plotly.graph_objects as go\n",
    "import plotly.io as pio\n",
    "pio.renderers.default='colab'"
   ]
  },
  {
   "cell_type": "code",
   "execution_count": 35,
   "metadata": {
    "colab": {
     "base_uri": "https://localhost:8080/"
    },
    "id": "EqTaMSOTvXwI",
    "outputId": "0060c605-1530-4677-8ef4-048e7c1e85f9"
   },
   "outputs": [
    {
     "name": "stdout",
     "output_type": "stream",
     "text": [
      "Total data train: 60000 test: 10000\n"
     ]
    }
   ],
   "source": [
    "# Downloading and storing MNIST dataset in trainable mode.\n",
    "dataset_train = MNIST('mnist', train=True, transform=ToTensor(), download=True)\n",
    "dataset_test = MNIST('mnist', train=False, transform=ToTensor(), download=True)\n",
    "print(f'Total data train: {len(dataset_train)} test: {len(dataset_test)}',)"
   ]
  },
  {
   "cell_type": "code",
   "execution_count": 36,
   "metadata": {
    "id": "MGnCVilPv0OM"
   },
   "outputs": [],
   "source": [
    "class FFNN(nn.Module):\n",
    "  def __init__(self, input_size, h_1_size, h_2_size, h_3_size, output_size):\n",
    "    super(FFNN, self).__init__()\n",
    "    self.h_1 = torch.nn.Linear(input_size,h_1_size)\n",
    "    self.h_2 = torch.nn.Linear(h_1_size,h_2_size)\n",
    "    self.h_3 = torch.nn.Linear(h_2_size,h_3_size)\n",
    "    self.h_4 = torch.nn.Linear(h_3_size,output_size)\n",
    "  def forward(self, x):\n",
    "    x = torch.nn.functional.relu(self.h_1(x))\n",
    "    x = torch.nn.functional.relu(self.h_2(x))\n",
    "    x = torch.nn.functional.relu(self.h_3(x))\n",
    "    x = torch.nn.functional.relu(self.h_4(x))\n",
    "    return x"
   ]
  },
  {
   "cell_type": "code",
   "execution_count": 37,
   "metadata": {
    "id": "OOuLff1LybOs"
   },
   "outputs": [],
   "source": [
    "# this is the collate_fn will be use to apply the needed transformations to our input\n",
    "\n",
    "def custom_collate(batch):\n",
    "  x_data = [x[0].view(28*28) for x in batch ]\n",
    "  y_data = [ torch.tensor(x[1]) for x in batch ]\n",
    "\n",
    "  return torch.stack(x_data),torch.stack(y_data)"
   ]
  },
  {
   "cell_type": "code",
   "execution_count": 38,
   "metadata": {
    "id": "D3RQlLDMxz0y"
   },
   "outputs": [],
   "source": [
    "def train(network, dataset, optimizer, epochs=1, batch_size=100, device='cpu', collate=None):\n",
    "  network.to(device)\n",
    "  criterion = nn.CrossEntropyLoss()\n",
    "  data = DataLoader(dataset,batch_size=batch_size,shuffle=True,collate_fn=collate)\n",
    "  loss, acc = [], []\n",
    "  for e in range(1,epochs+1):\n",
    "    acc_a = 0\n",
    "    loss_a = 0\n",
    "    for x, y in data:\n",
    "      x, y = x.to(device).float(), y.to(device)\n",
    "      y_pred = network(x)\n",
    "      current_loss = criterion(y_pred,y)\n",
    "      loss_a += current_loss.item()\n",
    "      acc_a += torch.sum((torch.argmax(y_pred, 1) == y)).item()\n",
    "      current_loss.backward()\n",
    "      optimizer.step()\n",
    "    print(f\"Epoch: {e} | Acc: {acc_a/len(dataset)*100:.2f}% | loss: {loss_a/len(dataset)*batch_size:.3f}\")\n",
    "    acc.append(acc_a/len(dataset))\n",
    "    loss.append(loss_a/len(dataset)*batch_size)\n",
    "  return loss, acc"
   ]
  },
  {
   "cell_type": "code",
   "execution_count": 39,
   "metadata": {
    "id": "97aGemF86H-d"
   },
   "outputs": [],
   "source": [
    "def test(network, dataset, batch_size=100, device='cpu', collate=None):\n",
    "  network.to(device)\n",
    "  data = DataLoader(dataset,batch_size=batch_size,shuffle=True,collate_fn=collate)\n",
    "  criterion = nn.CrossEntropyLoss()\n",
    "  acc_c = 0\n",
    "  loss_c = 0\n",
    "  with torch.no_grad():\n",
    "    for x, y in data:\n",
    "      x, y = x.to(device).float(), y.to(device)\n",
    "      y_pred = network(x)\n",
    "      loss_c += criterion(y_pred,y).item()\n",
    "      acc_c += torch.sum((torch.argmax(y_pred, 1) == y)).item()\n",
    "    print(f\"\\nTest Results: Acc: {acc_c/len(dataset)*100:.2f}% | loss: {loss_c/len(dataset)*batch_size:.3f}\")\n",
    "  return loss_c/len(dataset)*batch_size, acc_c/len(dataset)"
   ]
  },
  {
   "cell_type": "code",
   "execution_count": 40,
   "metadata": {
    "id": "FeWmmNXbylR1"
   },
   "outputs": [],
   "source": [
    "optimizer_options = [optim.Adam, optim.AdamW, optim.SGD, optim.RMSprop]\n",
    "\n",
    "# cache structure to avoid re running model with same parameters twice\n",
    "model_cache = {}\n",
    "\n",
    "def decode_individual(individual):\n",
    "  return {\n",
    "    \"h_1\": individual[0],\n",
    "    \"h_2\": individual[1],\n",
    "    \"h_3\": individual[2],\n",
    "    \"optimizer\": individual[3],\n",
    "    \"lr\": individual[4],\n",
    "    \"batch_size\": individual[5],\n",
    "    \"epochs\": 10\n",
    "  }\n",
    "\n",
    "def fitness_method(individual):\n",
    "  model_info = decode_individual(individual)\n",
    "  \n",
    "  cache_key = \"_\".join([str(v) for v in model_info.values()])\n",
    "  \n",
    "  if cache_key in model_cache:\n",
    "    # print(\"cached\")\n",
    "    return model_cache[cache_key]\n",
    "\n",
    "  model = FFNN(784,model_info[\"h_1\"],model_info[\"h_2\"],model_info[\"h_3\"],10)\n",
    "  model.train()\n",
    "  optimizer = optimizer_options[model_info[\"optimizer\"]](model.parameters(), lr=model_info[\"lr\"])\n",
    "  train(model,dataset_train,optimizer,epochs=2,collate=custom_collate)\n",
    "  model.eval()\n",
    "  test_loss, test_accuracy = test(model,dataset_test,collate=custom_collate)\n",
    "  model_cache[cache_key] = test_accuracy\n",
    "\n",
    "  return test_accuracy"
   ]
  },
  {
   "cell_type": "code",
   "execution_count": 41,
   "metadata": {
    "id": "cyGkND3i-tiV"
   },
   "outputs": [],
   "source": [
    "def generate_individual():\n",
    "  h_1_size = random.randint(1, 1500)\n",
    "  h_2_size = random.randint(1, 1500)\n",
    "  h_3_size = random.randint(1, 1500)\n",
    "  optim = random.randint(0, 3)\n",
    "  lr = random.uniform(1e-5,9e-4)\n",
    "  batch_size = random.randint(1, 100)\n",
    "  return [h_1_size,h_2_size,h_3_size,optim,lr,batch_size]"
   ]
  },
  {
   "cell_type": "code",
   "execution_count": 42,
   "metadata": {
    "id": "wucnoOmUoivm"
   },
   "outputs": [],
   "source": [
    "def mutate_individual(individual):\n",
    "  idx_to_modify = random.randint(0, len(individual)-1)\n",
    "  if idx_to_modify < 3:\n",
    "    individual[idx_to_modify] = random.randint(1, 1500)\n",
    "  elif idx_to_modify == 3:\n",
    "    individual[idx_to_modify] = random.randint(0, 3)\n",
    "  elif idx_to_modify == 4:\n",
    "    individual[idx_to_modify] = random.uniform(1e-5,9e-4)\n",
    "  else:\n",
    "    individual[idx_to_modify] = random.randint(1, 100)\n",
    "  return individual\n"
   ]
  },
  {
   "cell_type": "code",
   "execution_count": 43,
   "metadata": {
    "id": "erSx4KCm8sOd"
   },
   "outputs": [],
   "source": [
    "def end_criteria(current_max_result):\n",
    "  return current_max_result >= 0.92"
   ]
  },
  {
   "cell_type": "code",
   "execution_count": 44,
   "metadata": {
    "colab": {
     "base_uri": "https://localhost:8080/",
     "height": 493
    },
    "id": "jmOXlxDNJJ2E",
    "outputId": "eaba7fba-8b4e-4c81-dd70-fb231ab17165"
   },
   "outputs": [
    {
     "name": "stdout",
     "output_type": "stream",
     "text": [
      "Generation: 1\n",
      "Evaluation\n",
      "Epoch: 1 | Acc: 9.91% | loss: 2.302\n",
      "Epoch: 2 | Acc: 9.92% | loss: 2.303\n",
      "\n",
      "Test Results: Acc: 10.09% | loss: 2.303\n"
     ]
    },
    {
     "ename": "KeyboardInterrupt",
     "evalue": "",
     "output_type": "error",
     "traceback": [
      "\u001b[0;31m---------------------------------------------------------------------------\u001b[0m",
      "\u001b[0;31mKeyboardInterrupt\u001b[0m                         Traceback (most recent call last)",
      "\u001b[0;32m<ipython-input-44-0a7be0fe8c75>\u001b[0m in \u001b[0;36m<module>\u001b[0;34m\u001b[0m\n\u001b[1;32m      1\u001b[0m \u001b[0mGE\u001b[0m \u001b[0;34m=\u001b[0m \u001b[0mGeneticEngine\u001b[0m\u001b[0;34m(\u001b[0m\u001b[0;36m2\u001b[0m\u001b[0;34m,\u001b[0m\u001b[0;36m6\u001b[0m\u001b[0;34m,\u001b[0m\u001b[0mgenerate_individual\u001b[0m\u001b[0;34m,\u001b[0m\u001b[0;34m\"tournament\"\u001b[0m\u001b[0;34m,\u001b[0m\u001b[0;34m\"crossover\"\u001b[0m\u001b[0;34m,\u001b[0m\u001b[0mmutate_individual\u001b[0m\u001b[0;34m,\u001b[0m\u001b[0;36m0.2\u001b[0m\u001b[0;34m,\u001b[0m\u001b[0mfitness_method\u001b[0m\u001b[0;34m,\u001b[0m\u001b[0mend_criteria\u001b[0m\u001b[0;34m)\u001b[0m\u001b[0;34m\u001b[0m\u001b[0;34m\u001b[0m\u001b[0m\n\u001b[0;32m----> 2\u001b[0;31m \u001b[0mGE\u001b[0m\u001b[0;34m.\u001b[0m\u001b[0mrun\u001b[0m\u001b[0;34m(\u001b[0m\u001b[0;36m1\u001b[0m\u001b[0;34m)\u001b[0m\u001b[0;34m\u001b[0m\u001b[0;34m\u001b[0m\u001b[0m\n\u001b[0m",
      "\u001b[0;32m~/src/Univ/NN_GP_T_2/src/experiments/utils/GeneticEngine.py\u001b[0m in \u001b[0;36mrun\u001b[0;34m(self, generations)\u001b[0m\n\u001b[1;32m    132\u001b[0m       \u001b[0mprint\u001b[0m\u001b[0;34m(\u001b[0m\u001b[0;34m\"Evaluation\"\u001b[0m\u001b[0;34m)\u001b[0m\u001b[0;34m\u001b[0m\u001b[0;34m\u001b[0m\u001b[0m\n\u001b[1;32m    133\u001b[0m       \u001b[0;31m# Eval fitness of current population\u001b[0m\u001b[0;34m\u001b[0m\u001b[0;34m\u001b[0m\u001b[0;34m\u001b[0m\u001b[0m\n\u001b[0;32m--> 134\u001b[0;31m       \u001b[0mcurrent_results\u001b[0m \u001b[0;34m=\u001b[0m \u001b[0mself\u001b[0m\u001b[0;34m.\u001b[0m\u001b[0meval_population\u001b[0m\u001b[0;34m(\u001b[0m\u001b[0;34m)\u001b[0m\u001b[0;34m\u001b[0m\u001b[0;34m\u001b[0m\u001b[0m\n\u001b[0m\u001b[1;32m    135\u001b[0m \u001b[0;34m\u001b[0m\u001b[0m\n\u001b[1;32m    136\u001b[0m       \u001b[0;31m# Verify if we found an acceptable individual\u001b[0m\u001b[0;34m\u001b[0m\u001b[0;34m\u001b[0m\u001b[0;34m\u001b[0m\u001b[0m\n",
      "\u001b[0;32m~/src/Univ/NN_GP_T_2/src/experiments/utils/GeneticEngine.py\u001b[0m in \u001b[0;36meval_population\u001b[0;34m(self)\u001b[0m\n\u001b[1;32m     92\u001b[0m     \u001b[0mfitness\u001b[0m \u001b[0;34m=\u001b[0m \u001b[0;34m[\u001b[0m\u001b[0;34m]\u001b[0m\u001b[0;34m\u001b[0m\u001b[0;34m\u001b[0m\u001b[0m\n\u001b[1;32m     93\u001b[0m     \u001b[0;32mfor\u001b[0m \u001b[0mindividual\u001b[0m \u001b[0;32min\u001b[0m \u001b[0mself\u001b[0m\u001b[0;34m.\u001b[0m\u001b[0mpopulation\u001b[0m\u001b[0;34m:\u001b[0m\u001b[0;34m\u001b[0m\u001b[0;34m\u001b[0m\u001b[0m\n\u001b[0;32m---> 94\u001b[0;31m       \u001b[0mfitness\u001b[0m\u001b[0;34m.\u001b[0m\u001b[0mappend\u001b[0m\u001b[0;34m(\u001b[0m\u001b[0mself\u001b[0m\u001b[0;34m.\u001b[0m\u001b[0mf_fit\u001b[0m\u001b[0;34m(\u001b[0m\u001b[0mindividual\u001b[0m\u001b[0;34m)\u001b[0m\u001b[0;34m)\u001b[0m\u001b[0;34m\u001b[0m\u001b[0;34m\u001b[0m\u001b[0m\n\u001b[0m\u001b[1;32m     95\u001b[0m \u001b[0;34m\u001b[0m\u001b[0m\n\u001b[1;32m     96\u001b[0m     \u001b[0midx_min\u001b[0m \u001b[0;34m=\u001b[0m \u001b[0mnp\u001b[0m\u001b[0;34m.\u001b[0m\u001b[0margmin\u001b[0m\u001b[0;34m(\u001b[0m\u001b[0mfitness\u001b[0m\u001b[0;34m)\u001b[0m\u001b[0;34m\u001b[0m\u001b[0;34m\u001b[0m\u001b[0m\n",
      "\u001b[0;32m<ipython-input-40-bb71ccc8d44d>\u001b[0m in \u001b[0;36mfitness_method\u001b[0;34m(individual)\u001b[0m\n\u001b[1;32m     27\u001b[0m   \u001b[0mmodel\u001b[0m\u001b[0;34m.\u001b[0m\u001b[0mtrain\u001b[0m\u001b[0;34m(\u001b[0m\u001b[0;34m)\u001b[0m\u001b[0;34m\u001b[0m\u001b[0;34m\u001b[0m\u001b[0m\n\u001b[1;32m     28\u001b[0m   \u001b[0moptimizer\u001b[0m \u001b[0;34m=\u001b[0m \u001b[0moptimizer_options\u001b[0m\u001b[0;34m[\u001b[0m\u001b[0mmodel_info\u001b[0m\u001b[0;34m[\u001b[0m\u001b[0;34m\"optimizer\"\u001b[0m\u001b[0;34m]\u001b[0m\u001b[0;34m]\u001b[0m\u001b[0;34m(\u001b[0m\u001b[0mmodel\u001b[0m\u001b[0;34m.\u001b[0m\u001b[0mparameters\u001b[0m\u001b[0;34m(\u001b[0m\u001b[0;34m)\u001b[0m\u001b[0;34m,\u001b[0m \u001b[0mlr\u001b[0m\u001b[0;34m=\u001b[0m\u001b[0mmodel_info\u001b[0m\u001b[0;34m[\u001b[0m\u001b[0;34m\"lr\"\u001b[0m\u001b[0;34m]\u001b[0m\u001b[0;34m)\u001b[0m\u001b[0;34m\u001b[0m\u001b[0;34m\u001b[0m\u001b[0m\n\u001b[0;32m---> 29\u001b[0;31m   \u001b[0mtrain\u001b[0m\u001b[0;34m(\u001b[0m\u001b[0mmodel\u001b[0m\u001b[0;34m,\u001b[0m\u001b[0mdataset_train\u001b[0m\u001b[0;34m,\u001b[0m\u001b[0moptimizer\u001b[0m\u001b[0;34m,\u001b[0m\u001b[0mepochs\u001b[0m\u001b[0;34m=\u001b[0m\u001b[0;36m2\u001b[0m\u001b[0;34m,\u001b[0m\u001b[0mcollate\u001b[0m\u001b[0;34m=\u001b[0m\u001b[0mcustom_collate\u001b[0m\u001b[0;34m)\u001b[0m\u001b[0;34m\u001b[0m\u001b[0;34m\u001b[0m\u001b[0m\n\u001b[0m\u001b[1;32m     30\u001b[0m   \u001b[0mmodel\u001b[0m\u001b[0;34m.\u001b[0m\u001b[0meval\u001b[0m\u001b[0;34m(\u001b[0m\u001b[0;34m)\u001b[0m\u001b[0;34m\u001b[0m\u001b[0;34m\u001b[0m\u001b[0m\n\u001b[1;32m     31\u001b[0m   \u001b[0mtest_loss\u001b[0m\u001b[0;34m,\u001b[0m \u001b[0mtest_accuracy\u001b[0m \u001b[0;34m=\u001b[0m \u001b[0mtest\u001b[0m\u001b[0;34m(\u001b[0m\u001b[0mmodel\u001b[0m\u001b[0;34m,\u001b[0m\u001b[0mdataset_test\u001b[0m\u001b[0;34m,\u001b[0m\u001b[0mcollate\u001b[0m\u001b[0;34m=\u001b[0m\u001b[0mcustom_collate\u001b[0m\u001b[0;34m)\u001b[0m\u001b[0;34m\u001b[0m\u001b[0;34m\u001b[0m\u001b[0m\n",
      "\u001b[0;32m<ipython-input-38-4edfc7ca3a38>\u001b[0m in \u001b[0;36mtrain\u001b[0;34m(network, dataset, optimizer, epochs, batch_size, device, collate)\u001b[0m\n\u001b[1;32m     13\u001b[0m       \u001b[0mloss_a\u001b[0m \u001b[0;34m+=\u001b[0m \u001b[0mcurrent_loss\u001b[0m\u001b[0;34m.\u001b[0m\u001b[0mitem\u001b[0m\u001b[0;34m(\u001b[0m\u001b[0;34m)\u001b[0m\u001b[0;34m\u001b[0m\u001b[0;34m\u001b[0m\u001b[0m\n\u001b[1;32m     14\u001b[0m       \u001b[0macc_a\u001b[0m \u001b[0;34m+=\u001b[0m \u001b[0mtorch\u001b[0m\u001b[0;34m.\u001b[0m\u001b[0msum\u001b[0m\u001b[0;34m(\u001b[0m\u001b[0;34m(\u001b[0m\u001b[0mtorch\u001b[0m\u001b[0;34m.\u001b[0m\u001b[0margmax\u001b[0m\u001b[0;34m(\u001b[0m\u001b[0my_pred\u001b[0m\u001b[0;34m,\u001b[0m \u001b[0;36m1\u001b[0m\u001b[0;34m)\u001b[0m \u001b[0;34m==\u001b[0m \u001b[0my\u001b[0m\u001b[0;34m)\u001b[0m\u001b[0;34m)\u001b[0m\u001b[0;34m.\u001b[0m\u001b[0mitem\u001b[0m\u001b[0;34m(\u001b[0m\u001b[0;34m)\u001b[0m\u001b[0;34m\u001b[0m\u001b[0;34m\u001b[0m\u001b[0m\n\u001b[0;32m---> 15\u001b[0;31m       \u001b[0mcurrent_loss\u001b[0m\u001b[0;34m.\u001b[0m\u001b[0mbackward\u001b[0m\u001b[0;34m(\u001b[0m\u001b[0;34m)\u001b[0m\u001b[0;34m\u001b[0m\u001b[0;34m\u001b[0m\u001b[0m\n\u001b[0m\u001b[1;32m     16\u001b[0m       \u001b[0moptimizer\u001b[0m\u001b[0;34m.\u001b[0m\u001b[0mstep\u001b[0m\u001b[0;34m(\u001b[0m\u001b[0;34m)\u001b[0m\u001b[0;34m\u001b[0m\u001b[0;34m\u001b[0m\u001b[0m\n\u001b[1;32m     17\u001b[0m     \u001b[0mprint\u001b[0m\u001b[0;34m(\u001b[0m\u001b[0;34mf\"Epoch: {e} | Acc: {acc_a/len(dataset)*100:.2f}% | loss: {loss_a/len(dataset)*batch_size:.3f}\"\u001b[0m\u001b[0;34m)\u001b[0m\u001b[0;34m\u001b[0m\u001b[0;34m\u001b[0m\u001b[0m\n",
      "\u001b[0;32m~/anaconda3/envs/DL_T_1_3_7/lib/python3.7/site-packages/torch/tensor.py\u001b[0m in \u001b[0;36mbackward\u001b[0;34m(self, gradient, retain_graph, create_graph)\u001b[0m\n\u001b[1;32m    164\u001b[0m                 \u001b[0mproducts\u001b[0m\u001b[0;34m.\u001b[0m \u001b[0mDefaults\u001b[0m \u001b[0mto\u001b[0m\u001b[0;31m \u001b[0m\u001b[0;31m`\u001b[0m\u001b[0;31m`\u001b[0m\u001b[0;32mFalse\u001b[0m\u001b[0;31m`\u001b[0m\u001b[0;31m`\u001b[0m\u001b[0;34m.\u001b[0m\u001b[0;34m\u001b[0m\u001b[0;34m\u001b[0m\u001b[0m\n\u001b[1;32m    165\u001b[0m         \"\"\"\n\u001b[0;32m--> 166\u001b[0;31m         \u001b[0mtorch\u001b[0m\u001b[0;34m.\u001b[0m\u001b[0mautograd\u001b[0m\u001b[0;34m.\u001b[0m\u001b[0mbackward\u001b[0m\u001b[0;34m(\u001b[0m\u001b[0mself\u001b[0m\u001b[0;34m,\u001b[0m \u001b[0mgradient\u001b[0m\u001b[0;34m,\u001b[0m \u001b[0mretain_graph\u001b[0m\u001b[0;34m,\u001b[0m \u001b[0mcreate_graph\u001b[0m\u001b[0;34m)\u001b[0m\u001b[0;34m\u001b[0m\u001b[0;34m\u001b[0m\u001b[0m\n\u001b[0m\u001b[1;32m    167\u001b[0m \u001b[0;34m\u001b[0m\u001b[0m\n\u001b[1;32m    168\u001b[0m     \u001b[0;32mdef\u001b[0m \u001b[0mregister_hook\u001b[0m\u001b[0;34m(\u001b[0m\u001b[0mself\u001b[0m\u001b[0;34m,\u001b[0m \u001b[0mhook\u001b[0m\u001b[0;34m)\u001b[0m\u001b[0;34m:\u001b[0m\u001b[0;34m\u001b[0m\u001b[0;34m\u001b[0m\u001b[0m\n",
      "\u001b[0;32m~/anaconda3/envs/DL_T_1_3_7/lib/python3.7/site-packages/torch/autograd/__init__.py\u001b[0m in \u001b[0;36mbackward\u001b[0;34m(tensors, grad_tensors, retain_graph, create_graph, grad_variables)\u001b[0m\n\u001b[1;32m     97\u001b[0m     Variable._execution_engine.run_backward(\n\u001b[1;32m     98\u001b[0m         \u001b[0mtensors\u001b[0m\u001b[0;34m,\u001b[0m \u001b[0mgrad_tensors\u001b[0m\u001b[0;34m,\u001b[0m \u001b[0mretain_graph\u001b[0m\u001b[0;34m,\u001b[0m \u001b[0mcreate_graph\u001b[0m\u001b[0;34m,\u001b[0m\u001b[0;34m\u001b[0m\u001b[0;34m\u001b[0m\u001b[0m\n\u001b[0;32m---> 99\u001b[0;31m         allow_unreachable=True)  # allow_unreachable flag\n\u001b[0m\u001b[1;32m    100\u001b[0m \u001b[0;34m\u001b[0m\u001b[0m\n\u001b[1;32m    101\u001b[0m \u001b[0;34m\u001b[0m\u001b[0m\n",
      "\u001b[0;31mKeyboardInterrupt\u001b[0m: "
     ]
    }
   ],
   "source": [
    "GE = GeneticEngine(2,6,generate_individual,\"tournament\",\"crossover\",mutate_individual,0.2,fitness_method,end_criteria)\n",
    "GE.run(1)"
   ]
  },
  {
   "cell_type": "code",
   "execution_count": null,
   "metadata": {
    "colab": {
     "base_uri": "https://localhost:8080/",
     "height": 542
    },
    "id": "Re5AtSlUV_KS",
    "outputId": "f8415166-7ef9-4244-f371-598a270fbae6"
   },
   "outputs": [],
   "source": [
    "pio.renderers.default='colab'\n",
    "\n",
    "def create_figure():\n",
    "    return go.Figure()\n",
    "  \n",
    "def plot_figure(fig, data, color, title):  \n",
    "    \n",
    "    x_axis = [int(x) * 50 for x in range(0, len(data)) ]\n",
    "    y_axis = data\n",
    "    fig.add_scatter(\n",
    "        x=x_axis, \n",
    "        y=y_axis,\n",
    "        mode=\"lines+markers\", \n",
    "        textposition=\"bottom center\",\n",
    "        name=title,\n",
    "        line={\"color\": color, \"width\": 1}\n",
    "    )\n",
    "    fig.update_layout(\n",
    "        title=\"Cost chart\",\n",
    "        xaxis_title=\"Generations\",\n",
    "        yaxis={\"title\": title, \"tickformat\": \".5f\"},\n",
    "        font=dict(\n",
    "            family=\"Courier New, monospace\",\n",
    "            size=14,\n",
    "            color=\"#7f7f7f\"\n",
    "        )\n",
    "    )\n",
    "\n",
    "fig = create_figure()\n",
    "\n",
    "plot_figure(fig, GE.historic_max_metric, 'rgb(255,0,0)', 'Best Fitness')\n",
    "plot_figure(fig, GE.historic_mean_metric, 'rgb(0,255,0)', 'Avg Fitness')\n",
    "plot_figure(fig, GE.historic_min_metric, 'rgb(0,0,255)', 'Worst Fitness')\n",
    "    \n",
    "fig.show()\n",
    "\n"
   ]
  },
  {
   "cell_type": "code",
   "execution_count": null,
   "metadata": {
    "id": "peN4mca1HeNp"
   },
   "outputs": [],
   "source": []
  }
 ],
 "metadata": {
  "accelerator": "GPU",
  "colab": {
   "collapsed_sections": [],
   "name": "NN_GP_T_2.ipynb",
   "provenance": []
  },
  "kernelspec": {
   "display_name": "Python 3",
   "language": "python",
   "name": "python3"
  },
  "language_info": {
   "codemirror_mode": {
    "name": "ipython",
    "version": 3
   },
   "file_extension": ".py",
   "mimetype": "text/x-python",
   "name": "python",
   "nbconvert_exporter": "python",
   "pygments_lexer": "ipython3",
   "version": "3.7.9"
  }
 },
 "nbformat": 4,
 "nbformat_minor": 1
}
