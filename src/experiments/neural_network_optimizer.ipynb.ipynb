{
 "cells": [
  {
   "cell_type": "code",
   "execution_count": 2,
   "metadata": {},
   "outputs": [
    {
     "name": "stdout",
     "output_type": "stream",
     "text": [
      "Requirement already satisfied: plotly in /home/humberto/anaconda3/envs/DL_T_1_3_7/lib/python3.7/site-packages (4.13.0)\n",
      "Requirement already satisfied: six in /home/humberto/anaconda3/envs/DL_T_1_3_7/lib/python3.7/site-packages (from plotly) (1.15.0)\n",
      "Requirement already satisfied: retrying>=1.3.3 in /home/humberto/anaconda3/envs/DL_T_1_3_7/lib/python3.7/site-packages (from plotly) (1.3.3)\n",
      "Requirement already satisfied: numpy in /home/humberto/anaconda3/envs/DL_T_1_3_7/lib/python3.7/site-packages (1.19.1)\n",
      "Collecting package metadata (current_repodata.json): done\n",
      "Solving environment: done\n",
      "\n",
      "\n",
      "==> WARNING: A newer version of conda exists. <==\n",
      "  current version: 4.8.5\n",
      "  latest version: 4.9.2\n",
      "\n",
      "Please update conda by running\n",
      "\n",
      "    $ conda update -n base -c defaults conda\n",
      "\n",
      "\n",
      "\n",
      "# All requested packages already installed.\n",
      "\n",
      "Collecting package metadata (current_repodata.json): done\n",
      "Solving environment: done\n",
      "\n",
      "\n",
      "==> WARNING: A newer version of conda exists. <==\n",
      "  current version: 4.8.5\n",
      "  latest version: 4.9.2\n",
      "\n",
      "Please update conda by running\n",
      "\n",
      "    $ conda update -n base -c defaults conda\n",
      "\n",
      "\n",
      "\n",
      "# All requested packages already installed.\n",
      "\n"
     ]
    }
   ],
   "source": [
    "!pip install plotly\n",
    "!pip install numpy\n",
    "!conda install -c plotly plotly-orca -y\n",
    "!conda install psutil -y"
   ]
  },
  {
   "cell_type": "code",
   "execution_count": 16,
   "metadata": {
    "id": "WkB5NZxnvSfU"
   },
   "outputs": [],
   "source": [
    "import torch\n",
    "import random\n",
    "import numpy as np\n",
    "import torch.nn as nn\n",
    "import torch.optim as optim\n",
    "from torchvision.datasets import MNIST\n",
    "from torchvision.transforms import ToTensor\n",
    "from torch.utils.data import Dataset, DataLoader\n",
    "from utils.GeneticEngine import GeneticEngine\n",
    "\n",
    "import plotly.graph_objects as go\n",
    "import plotly.io as pio\n",
    "pio.renderers.default='svg'"
   ]
  },
  {
   "cell_type": "markdown",
   "metadata": {},
   "source": [
    "## Dataset\n",
    "For this exercise we will be using the MNIST public dataset that consists of images of handwritten digits. This set is one of the most commonly used for testing different `Neural Network` model architectures.\n",
    "\n",
    "Our goal is not to resolve the classification problem directly, but to find a very good set of hyperparameters using our genetic algorithm engine (`GeneticEngine`)."
   ]
  },
  {
   "cell_type": "code",
   "execution_count": 4,
   "metadata": {
    "colab": {
     "base_uri": "https://localhost:8080/"
    },
    "id": "EqTaMSOTvXwI",
    "outputId": "0060c605-1530-4677-8ef4-048e7c1e85f9"
   },
   "outputs": [
    {
     "name": "stdout",
     "output_type": "stream",
     "text": [
      "Total data train: 60000 test: 10000\n"
     ]
    }
   ],
   "source": [
    "# Downloading and storing MNIST dataset in trainable mode.\n",
    "dataset_train = MNIST('mnist', train=True, transform=ToTensor(), download=True)\n",
    "dataset_test = MNIST('mnist', train=False, transform=ToTensor(), download=True)\n",
    "print(f'Total data train: {len(dataset_train)} test: {len(dataset_test)}',)"
   ]
  },
  {
   "cell_type": "markdown",
   "metadata": {},
   "source": [
    "## Model Definition\n",
    "In this section we will be creating a neural network structure using `pytorch`. The idea behind this is to be able to modify the hyperparameters linked to this model. It is important to note that some parts of the architcture are fixed (number of hidden layers, activation functions). "
   ]
  },
  {
   "cell_type": "code",
   "execution_count": 5,
   "metadata": {
    "id": "MGnCVilPv0OM"
   },
   "outputs": [],
   "source": [
    "class FFNN(nn.Module):\n",
    "  def __init__(self, input_size, h_1_size, h_2_size, h_3_size, output_size):\n",
    "    super(FFNN, self).__init__()\n",
    "    self.h_1 = torch.nn.Linear(input_size,h_1_size)\n",
    "    self.h_2 = torch.nn.Linear(h_1_size,h_2_size)\n",
    "    self.h_3 = torch.nn.Linear(h_2_size,h_3_size)\n",
    "    self.h_4 = torch.nn.Linear(h_3_size,output_size)\n",
    "  def forward(self, x):\n",
    "    x = torch.nn.functional.relu(self.h_1(x))\n",
    "    x = torch.nn.functional.relu(self.h_2(x))\n",
    "    x = torch.nn.functional.relu(self.h_3(x))\n",
    "    x = torch.nn.functional.relu(self.h_4(x))\n",
    "    return x"
   ]
  },
  {
   "cell_type": "code",
   "execution_count": 6,
   "metadata": {
    "id": "OOuLff1LybOs"
   },
   "outputs": [],
   "source": [
    "# this is the collate_fn will be use to apply the needed transformations to our input\n",
    "\n",
    "def custom_collate(batch):\n",
    "  x_data = [x[0].view(28*28) for x in batch ]\n",
    "  y_data = [ torch.tensor(x[1]) for x in batch ]\n",
    "\n",
    "  return torch.stack(x_data),torch.stack(y_data)"
   ]
  },
  {
   "cell_type": "code",
   "execution_count": 7,
   "metadata": {
    "id": "D3RQlLDMxz0y"
   },
   "outputs": [],
   "source": [
    "def train(network, dataset, optimizer, epochs=1, batch_size=100, device='cpu', collate=None):\n",
    "  network.to(device)\n",
    "  criterion = nn.CrossEntropyLoss()\n",
    "  data = DataLoader(dataset,batch_size=batch_size,shuffle=True,collate_fn=collate)\n",
    "  loss, acc = [], []\n",
    "  for e in range(1,epochs+1):\n",
    "    acc_a = 0\n",
    "    loss_a = 0\n",
    "    for x, y in data:\n",
    "      x, y = x.to(device).float(), y.to(device)\n",
    "      y_pred = network(x)\n",
    "      current_loss = criterion(y_pred,y)\n",
    "      loss_a += current_loss.item()\n",
    "      acc_a += torch.sum((torch.argmax(y_pred, 1) == y)).item()\n",
    "      current_loss.backward()\n",
    "      optimizer.step()\n",
    "    print(f\"Epoch: {e} | Acc: {acc_a/len(dataset)*100:.2f}% | loss: {loss_a/len(dataset)*batch_size:.3f}\")\n",
    "    acc.append(acc_a/len(dataset))\n",
    "    loss.append(loss_a/len(dataset)*batch_size)\n",
    "  return loss, acc"
   ]
  },
  {
   "cell_type": "code",
   "execution_count": 8,
   "metadata": {
    "id": "97aGemF86H-d"
   },
   "outputs": [],
   "source": [
    "def test(network, dataset, batch_size=100, device='cpu', collate=None):\n",
    "  network.to(device)\n",
    "  data = DataLoader(dataset,batch_size=batch_size,shuffle=True,collate_fn=collate)\n",
    "  criterion = nn.CrossEntropyLoss()\n",
    "  acc_c = 0\n",
    "  loss_c = 0\n",
    "  with torch.no_grad():\n",
    "    for x, y in data:\n",
    "      x, y = x.to(device).float(), y.to(device)\n",
    "      y_pred = network(x)\n",
    "      loss_c += criterion(y_pred,y).item()\n",
    "      acc_c += torch.sum((torch.argmax(y_pred, 1) == y)).item()\n",
    "    print(f\"\\nTest Results: Acc: {acc_c/len(dataset)*100:.2f}% | loss: {loss_c/len(dataset)*batch_size:.3f}\")\n",
    "  return loss_c/len(dataset)*batch_size, acc_c/len(dataset)"
   ]
  },
  {
   "cell_type": "markdown",
   "metadata": {},
   "source": [
    "## Getting Ready for GeneticEngine\n",
    "Before using our `GeneticEngine` we need to create a way to encode our problem for it. For this we define several methods:\n",
    "- Individual Generation: this method will be in charge of creating a new random valid individual.\n",
    "- Mutate Individual: this method has the objective of randomly updating one allele of an individual.\n",
    "- Fitness Function: this is one of the most important methods as it is responsible of evaluating how good (fit) an individual is.\n",
    "- End Criteria: method used to determine when an individual that meets the acceptance criteria has been found.\n",
    "\n",
    "In our particular case, we are using as a fitness factor the accuracy metric (in test) of our Neural Network Model, after being trained for 2 epochs with the current set of hyperparameters (individual).\n",
    "\n",
    "There are several reasons why we did not include the number of epochs inside the gene, the main one being the complexity that can be added for higher values of this parameter. Besides this we do not use a single epoch to better observe the behaviour of the model between epochs. \n",
    "\n",
    "After this we can reinterpret the goal of this task as finding a set of hyperparameters that represent a very good starting point for a Neural Network Model that has a similar architecture.\n",
    "\n",
    "As a secondary goal we are also optimizing parameters that are not entirely inside the neural network model but in the optimizer and the optimizer itself, for this we are using a `nominal` type of value.\n",
    "\n",
    "We can notice that evaluating the fitness of an individual under this schema is incredibly expensive because it implies training and evaluating the model. For this reason, we are using a caching strategy based in the value of the hyperparameter set, this allows evaluating each hyperparameter set only once. We make this assumption based on the fact that even though running a neural network with the same set of hyperparameters not necessarily returns the same result, the difference between these results is not significant."
   ]
  },
  {
   "cell_type": "code",
   "execution_count": 9,
   "metadata": {
    "id": "FeWmmNXbylR1"
   },
   "outputs": [],
   "source": [
    "optimizer_options = [optim.Adam, optim.AdamW, optim.SGD, optim.RMSprop]\n",
    "\n",
    "# cache structure to avoid re running model with same parameters twice\n",
    "model_cache = {}\n",
    "\n",
    "def decode_individual(individual):\n",
    "  return {\n",
    "    \"h_1\": individual[0],\n",
    "    \"h_2\": individual[1],\n",
    "    \"h_3\": individual[2],\n",
    "    \"optimizer\": individual[3],\n",
    "    \"lr\": individual[4],\n",
    "    \"batch_size\": individual[5],\n",
    "    \"epochs\": 10\n",
    "  }\n",
    "\n",
    "def fitness_method(individual):\n",
    "  model_info = decode_individual(individual)\n",
    "  \n",
    "  cache_key = \"_\".join([str(v) for v in model_info.values()])\n",
    "  \n",
    "  if cache_key in model_cache:\n",
    "    # print(\"cached\")\n",
    "    return model_cache[cache_key]\n",
    "\n",
    "  model = FFNN(784,model_info[\"h_1\"],model_info[\"h_2\"],model_info[\"h_3\"],10)\n",
    "  model.train()\n",
    "  optimizer = optimizer_options[model_info[\"optimizer\"]](model.parameters(), lr=model_info[\"lr\"])\n",
    "  train(model,dataset_train,optimizer,epochs=2,collate=custom_collate)\n",
    "  model.eval()\n",
    "  test_loss, test_accuracy = test(model,dataset_test,collate=custom_collate)\n",
    "  model_cache[cache_key] = test_accuracy\n",
    "\n",
    "  return test_accuracy"
   ]
  },
  {
   "cell_type": "code",
   "execution_count": 10,
   "metadata": {
    "id": "cyGkND3i-tiV"
   },
   "outputs": [],
   "source": [
    "def generate_individual():\n",
    "  h_1_size = random.randint(1, 1500)\n",
    "  h_2_size = random.randint(1, 1500)\n",
    "  h_3_size = random.randint(1, 1500)\n",
    "  optim = random.randint(0, 3)\n",
    "  lr = random.uniform(1e-5,9e-4)\n",
    "  batch_size = random.randint(1, 100)\n",
    "  return [h_1_size,h_2_size,h_3_size,optim,lr,batch_size]"
   ]
  },
  {
   "cell_type": "code",
   "execution_count": 11,
   "metadata": {
    "id": "wucnoOmUoivm"
   },
   "outputs": [],
   "source": [
    "def mutate_individual(individual):\n",
    "  idx_to_modify = random.randint(0, len(individual)-1)\n",
    "  if idx_to_modify < 3:\n",
    "    individual[idx_to_modify] = random.randint(1, 1500)\n",
    "  elif idx_to_modify == 3:\n",
    "    individual[idx_to_modify] = random.randint(0, 3)\n",
    "  elif idx_to_modify == 4:\n",
    "    individual[idx_to_modify] = random.uniform(1e-5,9e-4)\n",
    "  else:\n",
    "    individual[idx_to_modify] = random.randint(1, 100)\n",
    "  return individual\n"
   ]
  },
  {
   "cell_type": "code",
   "execution_count": 12,
   "metadata": {
    "id": "erSx4KCm8sOd"
   },
   "outputs": [],
   "source": [
    "def end_criteria(current_max_result):\n",
    "  return current_max_result >= 0.92"
   ]
  },
  {
   "cell_type": "code",
   "execution_count": 13,
   "metadata": {
    "colab": {
     "base_uri": "https://localhost:8080/",
     "height": 493
    },
    "id": "jmOXlxDNJJ2E",
    "outputId": "eaba7fba-8b4e-4c81-dd70-fb231ab17165",
    "scrolled": true
   },
   "outputs": [
    {
     "name": "stdout",
     "output_type": "stream",
     "text": [
      "Generation: 1\n",
      "Evaluation\n",
      "Epoch: 1 | Acc: 9.90% | loss: 2.303\n",
      "Epoch: 2 | Acc: 9.92% | loss: 2.303\n",
      "\n",
      "Test Results: Acc: 10.09% | loss: 2.303\n",
      "Epoch: 1 | Acc: 19.27% | loss: 2.186\n",
      "Epoch: 2 | Acc: 9.92% | loss: 2.303\n",
      "\n",
      "Test Results: Acc: 10.09% | loss: 2.303\n",
      "Epoch: 1 | Acc: 9.90% | loss: 2.303\n",
      "Epoch: 2 | Acc: 9.92% | loss: 2.303\n",
      "\n",
      "Test Results: Acc: 10.09% | loss: 2.303\n",
      "Epoch: 1 | Acc: 10.44% | loss: 2.353\n",
      "Epoch: 2 | Acc: 9.92% | loss: 2.303\n",
      "\n",
      "Test Results: Acc: 10.09% | loss: 2.303\n",
      "Epoch: 1 | Acc: 19.20% | loss: 2.102\n",
      "Epoch: 2 | Acc: 19.36% | loss: 2.093\n",
      "\n",
      "Test Results: Acc: 19.65% | loss: 2.099\n",
      "Epoch: 1 | Acc: 11.33% | loss: 2.287\n",
      "Epoch: 2 | Acc: 9.92% | loss: 2.303\n",
      "\n",
      "Test Results: Acc: 10.09% | loss: 2.303\n",
      "Epoch: 1 | Acc: 9.90% | loss: 2.362\n",
      "Epoch: 2 | Acc: 9.92% | loss: 2.303\n",
      "\n",
      "Test Results: Acc: 10.09% | loss: 2.303\n",
      "Epoch: 1 | Acc: 56.02% | loss: 1.444\n",
      "Epoch: 2 | Acc: 81.28% | loss: 0.563\n",
      "\n",
      "Test Results: Acc: 83.53% | loss: 0.475\n",
      "Epoch: 1 | Acc: 11.71% | loss: 2.284\n",
      "Epoch: 2 | Acc: 9.92% | loss: 2.303\n",
      "\n",
      "Test Results: Acc: 10.09% | loss: 2.303\n",
      "Epoch: 1 | Acc: 39.53% | loss: 1.498\n",
      "Epoch: 2 | Acc: 40.21% | loss: 1.434\n",
      "\n",
      "Test Results: Acc: 40.51% | loss: 1.432\n",
      "\t- Selection,Reproduction & Mutation\n",
      "Generation: 2\n",
      "Evaluation\n",
      "Epoch: 1 | Acc: 11.75% | loss: 2.285\n",
      "Epoch: 2 | Acc: 9.92% | loss: 2.303\n",
      "\n",
      "Test Results: Acc: 10.09% | loss: 2.303\n",
      "Epoch: 1 | Acc: 76.00% | loss: 0.673\n",
      "Epoch: 2 | Acc: 78.86% | loss: 0.547\n",
      "\n",
      "Test Results: Acc: 78.89% | loss: 0.558\n",
      "Epoch: 1 | Acc: 72.84% | loss: 0.907\n",
      "Epoch: 2 | Acc: 76.76% | loss: 0.805\n",
      "\n",
      "Test Results: Acc: 76.79% | loss: 0.809\n",
      "Epoch: 1 | Acc: 55.93% | loss: 1.545\n",
      "Epoch: 2 | Acc: 72.38% | loss: 0.839\n",
      "\n",
      "Test Results: Acc: 74.20% | loss: 0.770\n",
      "Epoch: 1 | Acc: 56.00% | loss: 1.132\n",
      "Epoch: 2 | Acc: 57.49% | loss: 1.048\n",
      "\n",
      "Test Results: Acc: 58.92% | loss: 1.030\n",
      "Epoch: 1 | Acc: 35.32% | loss: 1.767\n",
      "Epoch: 2 | Acc: 36.36% | loss: 1.730\n",
      "\n",
      "Test Results: Acc: 36.61% | loss: 1.749\n",
      "Epoch: 1 | Acc: 11.19% | loss: 2.286\n",
      "Epoch: 2 | Acc: 9.92% | loss: 2.303\n",
      "\n",
      "Test Results: Acc: 10.09% | loss: 2.303\n",
      "Epoch: 1 | Acc: 26.47% | loss: 2.050\n",
      "Epoch: 2 | Acc: 36.64% | loss: 1.823\n",
      "\n",
      "Test Results: Acc: 42.59% | loss: 1.773\n",
      "Epoch: 1 | Acc: 19.30% | loss: 2.105\n",
      "Epoch: 2 | Acc: 12.97% | loss: 2.232\n",
      "\n",
      "Test Results: Acc: 14.35% | loss: 2.204\n",
      "\t- Selection,Reproduction & Mutation\n",
      "Generation: 3\n",
      "Evaluation\n",
      "Epoch: 1 | Acc: 34.71% | loss: 1.854\n",
      "Epoch: 2 | Acc: 37.99% | loss: 1.702\n",
      "\n",
      "Test Results: Acc: 41.48% | loss: 1.630\n",
      "Epoch: 1 | Acc: 55.76% | loss: 1.143\n",
      "Epoch: 2 | Acc: 58.01% | loss: 1.023\n",
      "\n",
      "Test Results: Acc: 57.94% | loss: 1.027\n",
      "Epoch: 1 | Acc: 42.38% | loss: 1.768\n",
      "Epoch: 2 | Acc: 58.59% | loss: 1.155\n",
      "\n",
      "Test Results: Acc: 61.29% | loss: 1.019\n",
      "Epoch: 1 | Acc: 32.51% | loss: 1.974\n",
      "Epoch: 2 | Acc: 45.84% | loss: 1.625\n",
      "\n",
      "Test Results: Acc: 49.86% | loss: 1.509\n",
      "Epoch: 1 | Acc: 45.33% | loss: 1.359\n",
      "Epoch: 2 | Acc: 47.69% | loss: 1.264\n",
      "\n",
      "Test Results: Acc: 47.70% | loss: 1.264\n",
      "Epoch: 1 | Acc: 44.51% | loss: 1.737\n",
      "Epoch: 2 | Acc: 50.49% | loss: 1.351\n",
      "\n",
      "Test Results: Acc: 54.80% | loss: 1.302\n",
      "Epoch: 1 | Acc: 75.46% | loss: 0.683\n",
      "Epoch: 2 | Acc: 78.43% | loss: 0.554\n",
      "\n",
      "Test Results: Acc: 78.06% | loss: 0.574\n",
      "\t- Selection,Reproduction & Mutation\n",
      "Generation: 4\n",
      "Evaluation\n",
      "Epoch: 1 | Acc: 56.55% | loss: 1.284\n",
      "Epoch: 2 | Acc: 59.08% | loss: 1.201\n",
      "\n",
      "Test Results: Acc: 59.70% | loss: 1.195\n",
      "Epoch: 1 | Acc: 56.74% | loss: 1.273\n",
      "Epoch: 2 | Acc: 66.95% | loss: 1.023\n",
      "\n",
      "Test Results: Acc: 67.65% | loss: 1.018\n",
      "Epoch: 1 | Acc: 82.05% | loss: 0.695\n",
      "Epoch: 2 | Acc: 86.52% | loss: 0.576\n",
      "\n",
      "Test Results: Acc: 85.82% | loss: 0.596\n",
      "Epoch: 1 | Acc: 38.73% | loss: 1.827\n",
      "Epoch: 2 | Acc: 50.62% | loss: 1.332\n",
      "\n",
      "Test Results: Acc: 54.21% | loss: 1.197\n",
      "Epoch: 1 | Acc: 45.12% | loss: 1.713\n",
      "Epoch: 2 | Acc: 69.13% | loss: 0.907\n",
      "\n",
      "Test Results: Acc: 71.87% | loss: 0.780\n",
      "\t- Selection,Reproduction & Mutation\n",
      "Generation: 5\n",
      "Evaluation\n",
      "Epoch: 1 | Acc: 40.26% | loss: 1.783\n",
      "Epoch: 2 | Acc: 50.48% | loss: 1.317\n",
      "\n",
      "Test Results: Acc: 54.60% | loss: 1.275\n",
      "Epoch: 1 | Acc: 51.03% | loss: 1.629\n",
      "Epoch: 2 | Acc: 55.47% | loss: 1.256\n",
      "\n",
      "Test Results: Acc: 57.58% | loss: 1.188\n",
      "Epoch: 1 | Acc: 30.22% | loss: 1.679\n",
      "Epoch: 2 | Acc: 30.89% | loss: 1.628\n",
      "\n",
      "Test Results: Acc: 30.81% | loss: 1.629\n",
      "\t- Selection,Reproduction & Mutation\n",
      "Generation: 6\n",
      "Evaluation\n",
      "Epoch: 1 | Acc: 36.39% | loss: 1.731\n",
      "Epoch: 2 | Acc: 37.92% | loss: 1.673\n",
      "\n",
      "Test Results: Acc: 38.00% | loss: 1.676\n",
      "Epoch: 1 | Acc: 55.94% | loss: 1.135\n",
      "Epoch: 2 | Acc: 58.49% | loss: 1.003\n",
      "\n",
      "Test Results: Acc: 58.59% | loss: 1.011\n",
      "Epoch: 1 | Acc: 45.97% | loss: 1.340\n",
      "Epoch: 2 | Acc: 54.49% | loss: 1.105\n",
      "\n",
      "Test Results: Acc: 56.73% | loss: 1.055\n",
      "\t- Selection,Reproduction & Mutation\n",
      "Generation: 7\n",
      "Evaluation\n",
      "\t- Selection,Reproduction & Mutation\n",
      "Generation: 8\n",
      "Evaluation\n",
      "\t- Selection,Reproduction & Mutation\n",
      "Generation: 9\n",
      "Evaluation\n",
      "Epoch: 1 | Acc: 19.20% | loss: 2.105\n",
      "Epoch: 2 | Acc: 20.36% | loss: 2.075\n",
      "\n",
      "Test Results: Acc: 23.64% | loss: 2.008\n",
      "Epoch: 1 | Acc: 67.60% | loss: 0.863\n",
      "Epoch: 2 | Acc: 69.64% | loss: 0.758\n",
      "\n",
      "Test Results: Acc: 69.33% | loss: 0.773\n",
      "\t- Selection,Reproduction & Mutation\n",
      "Generation: 10\n",
      "Evaluation\n",
      "Epoch: 1 | Acc: 17.91% | loss: 1.955\n",
      "Epoch: 2 | Acc: 20.77% | loss: 1.857\n",
      "\n",
      "Test Results: Acc: 20.81% | loss: 1.860\n",
      "Epoch: 1 | Acc: 59.58% | loss: 1.078\n",
      "Epoch: 2 | Acc: 88.03% | loss: 0.420\n",
      "\n",
      "Test Results: Acc: 91.36% | loss: 0.361\n",
      "\t- Selection,Reproduction & Mutation\n",
      "Criteria not met returning the best found\n"
     ]
    },
    {
     "data": {
      "text/plain": [
       "([1261, 466, 1447, 2, 0.0006249448596785886, 93], 0.9136)"
      ]
     },
     "execution_count": 13,
     "metadata": {},
     "output_type": "execute_result"
    }
   ],
   "source": [
    "GE = GeneticEngine(10,6,generate_individual,\"tournament\",\"crossover\",mutate_individual,0.2,fitness_method,end_criteria)\n",
    "GE.run(10)"
   ]
  },
  {
   "cell_type": "code",
   "execution_count": 18,
   "metadata": {
    "colab": {
     "base_uri": "https://localhost:8080/",
     "height": 542
    },
    "id": "Re5AtSlUV_KS",
    "outputId": "f8415166-7ef9-4244-f371-598a270fbae6"
   },
   "outputs": [
    {
     "data": {
      "image/svg+xml": [
       "<svg class=\"main-svg\" xmlns=\"http://www.w3.org/2000/svg\" xmlns:xlink=\"http://www.w3.org/1999/xlink\" width=\"700\" height=\"450\" style=\"\" viewBox=\"0 0 700 450\"><rect x=\"0\" y=\"0\" width=\"700\" height=\"450\" style=\"fill: rgb(255, 255, 255); fill-opacity: 1;\"/><defs id=\"defs-8c577f\"><g class=\"clips\"><clipPath id=\"clip8c577fxyplot\" class=\"plotclip\"><rect width=\"425\" height=\"270\"/></clipPath><clipPath class=\"axesclip\" id=\"clip8c577fx\"><rect x=\"99\" y=\"0\" width=\"425\" height=\"450\"/></clipPath><clipPath class=\"axesclip\" id=\"clip8c577fy\"><rect x=\"0\" y=\"100\" width=\"700\" height=\"270\"/></clipPath><clipPath class=\"axesclip\" id=\"clip8c577fxy\"><rect x=\"99\" y=\"100\" width=\"425\" height=\"270\"/></clipPath></g><g class=\"gradients\"/></defs><g class=\"bglayer\"><rect class=\"bg\" x=\"99\" y=\"100\" width=\"425\" height=\"270\" style=\"fill: rgb(229, 236, 246); fill-opacity: 1; stroke-width: 0;\"/></g><g class=\"layer-below\"><g class=\"imagelayer\"/><g class=\"shapelayer\"/></g><g class=\"cartesianlayer\"><g class=\"subplot xy\"><g class=\"layer-subplot\"><g class=\"shapelayer\"/><g class=\"imagelayer\"/></g><g class=\"gridlayer\"><g class=\"x\"><path class=\"xgrid crisp\" transform=\"translate(207.32999999999998,0)\" d=\"M0,100v270\" style=\"stroke: rgb(255, 255, 255); stroke-opacity: 1; stroke-width: 1px;\"/><path class=\"xgrid crisp\" transform=\"translate(290.66999999999996,0)\" d=\"M0,100v270\" style=\"stroke: rgb(255, 255, 255); stroke-opacity: 1; stroke-width: 1px;\"/><path class=\"xgrid crisp\" transform=\"translate(374,0)\" d=\"M0,100v270\" style=\"stroke: rgb(255, 255, 255); stroke-opacity: 1; stroke-width: 1px;\"/><path class=\"xgrid crisp\" transform=\"translate(457.33,0)\" d=\"M0,100v270\" style=\"stroke: rgb(255, 255, 255); stroke-opacity: 1; stroke-width: 1px;\"/></g><g class=\"y\"><path class=\"ygrid crisp\" transform=\"translate(0,324.03)\" d=\"M99,0h425\" style=\"stroke: rgb(255, 255, 255); stroke-opacity: 1; stroke-width: 1px;\"/><path class=\"ygrid crisp\" transform=\"translate(0,266.08000000000004)\" d=\"M99,0h425\" style=\"stroke: rgb(255, 255, 255); stroke-opacity: 1; stroke-width: 1px;\"/><path class=\"ygrid crisp\" transform=\"translate(0,208.12)\" d=\"M99,0h425\" style=\"stroke: rgb(255, 255, 255); stroke-opacity: 1; stroke-width: 1px;\"/><path class=\"ygrid crisp\" transform=\"translate(0,150.17000000000002)\" d=\"M99,0h425\" style=\"stroke: rgb(255, 255, 255); stroke-opacity: 1; stroke-width: 1px;\"/></g></g><g class=\"zerolinelayer\"><path class=\"xzl zl crisp\" transform=\"translate(124,0)\" d=\"M0,100v270\" style=\"stroke: rgb(255, 255, 255); stroke-opacity: 1; stroke-width: 2px;\"/></g><path class=\"xlines-below\"/><path class=\"ylines-below\"/><g class=\"overlines-below\"/><g class=\"xaxislayer-below\"/><g class=\"yaxislayer-below\"/><g class=\"overaxes-below\"/><g class=\"plot\" transform=\"translate(99, 100)\" clip-path=\"url('#clip8c577fxyplot')\"><g class=\"scatterlayer mlayer\"><g class=\"trace scatter trace6a0d96\" style=\"stroke-miterlimit: 2; opacity: 1;\"><g class=\"fills\"/><g class=\"errorbars\"/><g class=\"lines\"><path class=\"js-line\" d=\"M25,39.94L66.67,53.38L108.33,53.38L150,33.3L191.67,33.3L358.33,33.3L400,17.25\" style=\"vector-effect: non-scaling-stroke; fill: none; stroke: rgb(255, 0, 0); stroke-opacity: 1; stroke-width: 1px; opacity: 1;\"/></g><g class=\"points\"><path class=\"point\" transform=\"translate(25,39.94)\" d=\"M3,0A3,3 0 1,1 0,-3A3,3 0 0,1 3,0Z\" style=\"opacity: 1; stroke-width: 0px; fill: rgb(255, 0, 0); fill-opacity: 1;\"/><path class=\"point\" transform=\"translate(66.67,53.38)\" d=\"M3,0A3,3 0 1,1 0,-3A3,3 0 0,1 3,0Z\" style=\"opacity: 1; stroke-width: 0px; fill: rgb(255, 0, 0); fill-opacity: 1;\"/><path class=\"point\" transform=\"translate(108.33,53.38)\" d=\"M3,0A3,3 0 1,1 0,-3A3,3 0 0,1 3,0Z\" style=\"opacity: 1; stroke-width: 0px; fill: rgb(255, 0, 0); fill-opacity: 1;\"/><path class=\"point\" transform=\"translate(150,33.3)\" d=\"M3,0A3,3 0 1,1 0,-3A3,3 0 0,1 3,0Z\" style=\"opacity: 1; stroke-width: 0px; fill: rgb(255, 0, 0); fill-opacity: 1;\"/><path class=\"point\" transform=\"translate(191.67,33.3)\" d=\"M3,0A3,3 0 1,1 0,-3A3,3 0 0,1 3,0Z\" style=\"opacity: 1; stroke-width: 0px; fill: rgb(255, 0, 0); fill-opacity: 1;\"/><path class=\"point\" transform=\"translate(233.33,33.3)\" d=\"M3,0A3,3 0 1,1 0,-3A3,3 0 0,1 3,0Z\" style=\"opacity: 1; stroke-width: 0px; fill: rgb(255, 0, 0); fill-opacity: 1;\"/><path class=\"point\" transform=\"translate(275,33.3)\" d=\"M3,0A3,3 0 1,1 0,-3A3,3 0 0,1 3,0Z\" style=\"opacity: 1; stroke-width: 0px; fill: rgb(255, 0, 0); fill-opacity: 1;\"/><path class=\"point\" transform=\"translate(316.67,33.3)\" d=\"M3,0A3,3 0 1,1 0,-3A3,3 0 0,1 3,0Z\" style=\"opacity: 1; stroke-width: 0px; fill: rgb(255, 0, 0); fill-opacity: 1;\"/><path class=\"point\" transform=\"translate(358.33,33.3)\" d=\"M3,0A3,3 0 1,1 0,-3A3,3 0 0,1 3,0Z\" style=\"opacity: 1; stroke-width: 0px; fill: rgb(255, 0, 0); fill-opacity: 1;\"/><path class=\"point\" transform=\"translate(400,17.25)\" d=\"M3,0A3,3 0 1,1 0,-3A3,3 0 0,1 3,0Z\" style=\"opacity: 1; stroke-width: 0px; fill: rgb(255, 0, 0); fill-opacity: 1;\"/></g><g class=\"text\"/></g><g class=\"trace scatter traceb37770\" style=\"stroke-miterlimit: 2; opacity: 1;\"><g class=\"fills\"/><g class=\"errorbars\"/><g class=\"lines\"><path class=\"js-line\" d=\"M25,219.88L66.67,143.84L108.33,119.6L150,95.14L191.67,84.85L233.33,63.48L275,33.3L316.67,33.3L358.33,56.1L400,50.54\" style=\"vector-effect: non-scaling-stroke; fill: none; stroke: rgb(0, 255, 0); stroke-opacity: 1; stroke-width: 1px; opacity: 1;\"/></g><g class=\"points\"><path class=\"point\" transform=\"translate(25,219.88)\" d=\"M3,0A3,3 0 1,1 0,-3A3,3 0 0,1 3,0Z\" style=\"opacity: 1; stroke-width: 0px; fill: rgb(0, 255, 0); fill-opacity: 1;\"/><path class=\"point\" transform=\"translate(66.67,143.84)\" d=\"M3,0A3,3 0 1,1 0,-3A3,3 0 0,1 3,0Z\" style=\"opacity: 1; stroke-width: 0px; fill: rgb(0, 255, 0); fill-opacity: 1;\"/><path class=\"point\" transform=\"translate(108.33,119.6)\" d=\"M3,0A3,3 0 1,1 0,-3A3,3 0 0,1 3,0Z\" style=\"opacity: 1; stroke-width: 0px; fill: rgb(0, 255, 0); fill-opacity: 1;\"/><path class=\"point\" transform=\"translate(150,95.14)\" d=\"M3,0A3,3 0 1,1 0,-3A3,3 0 0,1 3,0Z\" style=\"opacity: 1; stroke-width: 0px; fill: rgb(0, 255, 0); fill-opacity: 1;\"/><path class=\"point\" transform=\"translate(191.67,84.85)\" d=\"M3,0A3,3 0 1,1 0,-3A3,3 0 0,1 3,0Z\" style=\"opacity: 1; stroke-width: 0px; fill: rgb(0, 255, 0); fill-opacity: 1;\"/><path class=\"point\" transform=\"translate(233.33,63.48)\" d=\"M3,0A3,3 0 1,1 0,-3A3,3 0 0,1 3,0Z\" style=\"opacity: 1; stroke-width: 0px; fill: rgb(0, 255, 0); fill-opacity: 1;\"/><path class=\"point\" transform=\"translate(275,33.3)\" d=\"M3,0A3,3 0 1,1 0,-3A3,3 0 0,1 3,0Z\" style=\"opacity: 1; stroke-width: 0px; fill: rgb(0, 255, 0); fill-opacity: 1;\"/><path class=\"point\" transform=\"translate(316.67,33.3)\" d=\"M3,0A3,3 0 1,1 0,-3A3,3 0 0,1 3,0Z\" style=\"opacity: 1; stroke-width: 0px; fill: rgb(0, 255, 0); fill-opacity: 1;\"/><path class=\"point\" transform=\"translate(358.33,56.1)\" d=\"M3,0A3,3 0 1,1 0,-3A3,3 0 0,1 3,0Z\" style=\"opacity: 1; stroke-width: 0px; fill: rgb(0, 255, 0); fill-opacity: 1;\"/><path class=\"point\" transform=\"translate(400,50.54)\" d=\"M3,0A3,3 0 1,1 0,-3A3,3 0 0,1 3,0Z\" style=\"opacity: 1; stroke-width: 0px; fill: rgb(0, 255, 0); fill-opacity: 1;\"/></g><g class=\"text\"/></g><g class=\"trace scatter trace66152a\" style=\"stroke-miterlimit: 2; opacity: 1;\"><g class=\"fills\"/><g class=\"errorbars\"/><g class=\"lines\"><path class=\"js-line\" d=\"M25,252.75L66.67,252.75L108.33,164.6L150,137.51L191.67,192.71L233.33,171.87L275,33.3L316.67,33.3L358.33,213.49L400,221.69\" style=\"vector-effect: non-scaling-stroke; fill: none; stroke: rgb(0, 0, 255); stroke-opacity: 1; stroke-width: 1px; opacity: 1;\"/></g><g class=\"points\"><path class=\"point\" transform=\"translate(25,252.75)\" d=\"M3,0A3,3 0 1,1 0,-3A3,3 0 0,1 3,0Z\" style=\"opacity: 1; stroke-width: 0px; fill: rgb(0, 0, 255); fill-opacity: 1;\"/><path class=\"point\" transform=\"translate(66.67,252.75)\" d=\"M3,0A3,3 0 1,1 0,-3A3,3 0 0,1 3,0Z\" style=\"opacity: 1; stroke-width: 0px; fill: rgb(0, 0, 255); fill-opacity: 1;\"/><path class=\"point\" transform=\"translate(108.33,164.6)\" d=\"M3,0A3,3 0 1,1 0,-3A3,3 0 0,1 3,0Z\" style=\"opacity: 1; stroke-width: 0px; fill: rgb(0, 0, 255); fill-opacity: 1;\"/><path class=\"point\" transform=\"translate(150,137.51)\" d=\"M3,0A3,3 0 1,1 0,-3A3,3 0 0,1 3,0Z\" style=\"opacity: 1; stroke-width: 0px; fill: rgb(0, 0, 255); fill-opacity: 1;\"/><path class=\"point\" transform=\"translate(191.67,192.71)\" d=\"M3,0A3,3 0 1,1 0,-3A3,3 0 0,1 3,0Z\" style=\"opacity: 1; stroke-width: 0px; fill: rgb(0, 0, 255); fill-opacity: 1;\"/><path class=\"point\" transform=\"translate(233.33,171.87)\" d=\"M3,0A3,3 0 1,1 0,-3A3,3 0 0,1 3,0Z\" style=\"opacity: 1; stroke-width: 0px; fill: rgb(0, 0, 255); fill-opacity: 1;\"/><path class=\"point\" transform=\"translate(275,33.3)\" d=\"M3,0A3,3 0 1,1 0,-3A3,3 0 0,1 3,0Z\" style=\"opacity: 1; stroke-width: 0px; fill: rgb(0, 0, 255); fill-opacity: 1;\"/><path class=\"point\" transform=\"translate(316.67,33.3)\" d=\"M3,0A3,3 0 1,1 0,-3A3,3 0 0,1 3,0Z\" style=\"opacity: 1; stroke-width: 0px; fill: rgb(0, 0, 255); fill-opacity: 1;\"/><path class=\"point\" transform=\"translate(358.33,213.49)\" d=\"M3,0A3,3 0 1,1 0,-3A3,3 0 0,1 3,0Z\" style=\"opacity: 1; stroke-width: 0px; fill: rgb(0, 0, 255); fill-opacity: 1;\"/><path class=\"point\" transform=\"translate(400,221.69)\" d=\"M3,0A3,3 0 1,1 0,-3A3,3 0 0,1 3,0Z\" style=\"opacity: 1; stroke-width: 0px; fill: rgb(0, 0, 255); fill-opacity: 1;\"/></g><g class=\"text\"/></g></g></g><g class=\"overplot\"/><path class=\"xlines-above crisp\" d=\"M0,0\" style=\"fill: none;\"/><path class=\"ylines-above crisp\" d=\"M0,0\" style=\"fill: none;\"/><g class=\"overlines-above\"/><g class=\"xaxislayer-above\"><g class=\"xtick\"><text text-anchor=\"middle\" x=\"0\" y=\"385\" transform=\"translate(124,0)\" style=\"font-family: 'Courier New', monospace; font-size: 14px; fill: rgb(127, 127, 127); fill-opacity: 1; white-space: pre;\">0</text></g><g class=\"xtick\"><text text-anchor=\"middle\" x=\"0\" y=\"385\" transform=\"translate(207.32999999999998,0)\" style=\"font-family: 'Courier New', monospace; font-size: 14px; fill: rgb(127, 127, 127); fill-opacity: 1; white-space: pre;\">2</text></g><g class=\"xtick\"><text text-anchor=\"middle\" x=\"0\" y=\"385\" transform=\"translate(290.66999999999996,0)\" style=\"font-family: 'Courier New', monospace; font-size: 14px; fill: rgb(127, 127, 127); fill-opacity: 1; white-space: pre;\">4</text></g><g class=\"xtick\"><text text-anchor=\"middle\" x=\"0\" y=\"385\" transform=\"translate(374,0)\" style=\"font-family: 'Courier New', monospace; font-size: 14px; fill: rgb(127, 127, 127); fill-opacity: 1; white-space: pre;\">6</text></g><g class=\"xtick\"><text text-anchor=\"middle\" x=\"0\" y=\"385\" transform=\"translate(457.33,0)\" style=\"font-family: 'Courier New', monospace; font-size: 14px; fill: rgb(127, 127, 127); fill-opacity: 1; white-space: pre;\">8</text></g></g><g class=\"yaxislayer-above\"><g class=\"ytick\"><text text-anchor=\"end\" x=\"98\" y=\"4.8999999999999995\" transform=\"translate(0,324.03)\" style=\"font-family: 'Courier New', monospace; font-size: 14px; fill: rgb(127, 127, 127); fill-opacity: 1; white-space: pre;\">0.20000</text></g><g class=\"ytick\"><text text-anchor=\"end\" x=\"98\" y=\"4.8999999999999995\" transform=\"translate(0,266.08000000000004)\" style=\"font-family: 'Courier New', monospace; font-size: 14px; fill: rgb(127, 127, 127); fill-opacity: 1; white-space: pre;\">0.40000</text></g><g class=\"ytick\"><text text-anchor=\"end\" x=\"98\" y=\"4.8999999999999995\" transform=\"translate(0,208.12)\" style=\"font-family: 'Courier New', monospace; font-size: 14px; fill: rgb(127, 127, 127); fill-opacity: 1; white-space: pre;\">0.60000</text></g><g class=\"ytick\"><text text-anchor=\"end\" x=\"98\" y=\"4.8999999999999995\" transform=\"translate(0,150.17000000000002)\" style=\"font-family: 'Courier New', monospace; font-size: 14px; fill: rgb(127, 127, 127); fill-opacity: 1; white-space: pre;\">0.80000</text></g></g><g class=\"overaxes-above\"/></g></g><g class=\"polarlayer\"/><g class=\"ternarylayer\"/><g class=\"geolayer\"/><g class=\"funnelarealayer\"/><g class=\"pielayer\"/><g class=\"treemaplayer\"/><g class=\"sunburstlayer\"/><g class=\"glimages\"/><defs id=\"topdefs-8c577f\"><g class=\"clips\"/><clipPath id=\"legend8c577f\"><rect width=\"155\" height=\"74\" x=\"0\" y=\"0\"/></clipPath></defs><g class=\"layer-above\"><g class=\"imagelayer\"/><g class=\"shapelayer\"/></g><g class=\"infolayer\"><g class=\"legend\" pointer-events=\"all\" transform=\"translate(532.5, 100)\"><rect class=\"bg\" shape-rendering=\"crispEdges\" width=\"155\" height=\"74\" x=\"0\" y=\"0\" style=\"stroke: rgb(68, 68, 68); stroke-opacity: 1; fill: rgb(255, 255, 255); fill-opacity: 1; stroke-width: 0px;\"/><g class=\"scrollbox\" transform=\"translate(0, 0)\" clip-path=\"url('#legend8c577f')\"><g class=\"groups\"><g class=\"traces\" transform=\"translate(0, 15.6)\" style=\"opacity: 1;\"><text class=\"legendtext\" text-anchor=\"start\" x=\"40\" y=\"5.46\" style=\"font-family: 'Courier New', monospace; font-size: 14px; fill: rgb(127, 127, 127); fill-opacity: 1; white-space: pre;\">Best Fitness</text><g class=\"layers\" style=\"opacity: 1;\"><g class=\"legendfill\"/><g class=\"legendlines\"><path class=\"js-line\" d=\"M5,0h30\" style=\"fill: none; stroke: rgb(255, 0, 0); stroke-opacity: 1; stroke-width: 1px;\"/></g><g class=\"legendsymbols\"><g class=\"legendpoints\"><path class=\"scatterpts\" transform=\"translate(20,0)\" d=\"M3,0A3,3 0 1,1 0,-3A3,3 0 0,1 3,0Z\" style=\"opacity: 1; stroke-width: 0px; fill: rgb(255, 0, 0); fill-opacity: 1;\"/></g></g></g><rect class=\"legendtoggle\" x=\"0\" y=\"-10.6\" width=\"149.21875\" height=\"21.2\" style=\"fill: rgb(0, 0, 0); fill-opacity: 0;\"/></g><g class=\"traces\" transform=\"translate(0, 36.8)\" style=\"opacity: 1;\"><text class=\"legendtext\" text-anchor=\"start\" x=\"40\" y=\"5.46\" style=\"font-family: 'Courier New', monospace; font-size: 14px; fill: rgb(127, 127, 127); fill-opacity: 1; white-space: pre;\">Avg Fitness</text><g class=\"layers\" style=\"opacity: 1;\"><g class=\"legendfill\"/><g class=\"legendlines\"><path class=\"js-line\" d=\"M5,0h30\" style=\"fill: none; stroke: rgb(0, 255, 0); stroke-opacity: 1; stroke-width: 1px;\"/></g><g class=\"legendsymbols\"><g class=\"legendpoints\"><path class=\"scatterpts\" transform=\"translate(20,0)\" d=\"M3,0A3,3 0 1,1 0,-3A3,3 0 0,1 3,0Z\" style=\"opacity: 1; stroke-width: 0px; fill: rgb(0, 255, 0); fill-opacity: 1;\"/></g></g></g><rect class=\"legendtoggle\" x=\"0\" y=\"-10.6\" width=\"149.21875\" height=\"21.2\" style=\"fill: rgb(0, 0, 0); fill-opacity: 0;\"/></g><g class=\"traces\" transform=\"translate(0, 58)\" style=\"opacity: 1;\"><text class=\"legendtext\" text-anchor=\"start\" x=\"40\" y=\"5.46\" style=\"font-family: 'Courier New', monospace; font-size: 14px; fill: rgb(127, 127, 127); fill-opacity: 1; white-space: pre;\">Worst Fitness</text><g class=\"layers\" style=\"opacity: 1;\"><g class=\"legendfill\"/><g class=\"legendlines\"><path class=\"js-line\" d=\"M5,0h30\" style=\"fill: none; stroke: rgb(0, 0, 255); stroke-opacity: 1; stroke-width: 1px;\"/></g><g class=\"legendsymbols\"><g class=\"legendpoints\"><path class=\"scatterpts\" transform=\"translate(20,0)\" d=\"M3,0A3,3 0 1,1 0,-3A3,3 0 0,1 3,0Z\" style=\"opacity: 1; stroke-width: 0px; fill: rgb(0, 0, 255); fill-opacity: 1;\"/></g></g></g><rect class=\"legendtoggle\" x=\"0\" y=\"-10.6\" width=\"149.21875\" height=\"21.2\" style=\"fill: rgb(0, 0, 0); fill-opacity: 0;\"/></g></g></g><rect class=\"scrollbar\" rx=\"20\" ry=\"3\" width=\"0\" height=\"0\" x=\"0\" y=\"0\" style=\"fill: rgb(128, 139, 164); fill-opacity: 1;\"/></g><g class=\"g-gtitle\"><text class=\"gtitle\" x=\"35\" y=\"50\" text-anchor=\"start\" dy=\"0em\" style=\"font-family: 'Courier New', monospace; font-size: 20px; fill: rgb(127, 127, 127); opacity: 1; font-weight: normal; white-space: pre;\">Fitness chart</text></g><g class=\"g-xtitle\"><text class=\"xtitle\" x=\"311.5\" y=\"415.9\" text-anchor=\"middle\" style=\"font-family: 'Courier New', monospace; font-size: 17px; fill: rgb(127, 127, 127); opacity: 1; font-weight: normal; white-space: pre;\">Generations</text></g><g class=\"g-ytitle\" transform=\"translate(1.712890625,0)\"><text class=\"ytitle\" transform=\"rotate(-90,12.287499999999994,235)\" x=\"12.287499999999994\" y=\"235\" text-anchor=\"middle\" style=\"font-family: 'Courier New', monospace; font-size: 17px; fill: rgb(127, 127, 127); opacity: 1; font-weight: normal; white-space: pre;\">Accuracy in Test</text></g></g></svg>"
      ]
     },
     "metadata": {},
     "output_type": "display_data"
    }
   ],
   "source": [
    "def create_figure():\n",
    "    return go.Figure()\n",
    "  \n",
    "def plot_figure(fig, data, color, title):  \n",
    "    \n",
    "    y_axis = data\n",
    "    fig.add_scatter(\n",
    "        y=y_axis,\n",
    "        mode=\"lines+markers\", \n",
    "        textposition=\"bottom center\",\n",
    "        name=title,\n",
    "        line={\"color\": color, \"width\": 1}\n",
    "    )\n",
    "    fig.update_layout(\n",
    "        title=\"Fitness chart\",\n",
    "        xaxis_title=\"Generations\",\n",
    "        yaxis={\"title\": \"Accuracy in Test\", \"tickformat\": \".5f\"},\n",
    "        font=dict(\n",
    "            family=\"Courier New, monospace\",\n",
    "            size=14,\n",
    "            color=\"#7f7f7f\"\n",
    "        )\n",
    "    )\n",
    "\n",
    "fig = create_figure()\n",
    "\n",
    "plot_figure(fig, GE.historic_max_metric, 'rgb(255,0,0)', 'Best Fitness')\n",
    "plot_figure(fig, GE.historic_mean_metric, 'rgb(0,255,0)', 'Avg Fitness')\n",
    "plot_figure(fig, GE.historic_min_metric, 'rgb(0,0,255)', 'Worst Fitness')\n",
    "    \n",
    "fig.show()\n",
    "\n"
   ]
  },
  {
   "cell_type": "markdown",
   "metadata": {},
   "source": [
    "## Analyzing results\n",
    "After testing with different configurations of population size and number of generations, we can conclude that using a genetic algorithm is a reasonable way to estimate a very good set of hyperparameters (it beats doing it manually), furthermore when training using specialized devices (GPU or TPU) are availbale. "
   ]
  },
  {
   "cell_type": "markdown",
   "metadata": {},
   "source": [
    "## Future Work\n",
    "The next step is to increase the complexity of the Neural Network Model that is being optimized, testing with different activation functions (it can be implemented easily with a `nominal` strategy), different number of hidden layers or even the types of the layers. This could result in being able to use this project on more complex Neural Network architectures such as Convolutional or Recurrent Networks."
   ]
  }
 ],
 "metadata": {
  "accelerator": "GPU",
  "colab": {
   "collapsed_sections": [],
   "name": "NN_GP_T_2.ipynb",
   "provenance": []
  },
  "kernelspec": {
   "display_name": "Python 3",
   "language": "python",
   "name": "python3"
  },
  "language_info": {
   "codemirror_mode": {
    "name": "ipython",
    "version": 3
   },
   "file_extension": ".py",
   "mimetype": "text/x-python",
   "name": "python",
   "nbconvert_exporter": "python",
   "pygments_lexer": "ipython3",
   "version": "3.7.9"
  }
 },
 "nbformat": 4,
 "nbformat_minor": 1
}
