{
 "cells": [
  {
   "cell_type": "code",
   "execution_count": 1,
   "metadata": {},
   "outputs": [
    {
     "name": "stdout",
     "output_type": "stream",
     "text": [
      "Requirement already satisfied: plotly in /home/humberto/anaconda3/envs/DL_T_1_3_7/lib/python3.7/site-packages (4.13.0)\n",
      "Requirement already satisfied: six in /home/humberto/anaconda3/envs/DL_T_1_3_7/lib/python3.7/site-packages (from plotly) (1.15.0)\n",
      "Requirement already satisfied: retrying>=1.3.3 in /home/humberto/anaconda3/envs/DL_T_1_3_7/lib/python3.7/site-packages (from plotly) (1.3.3)\n",
      "Requirement already satisfied: numpy in /home/humberto/anaconda3/envs/DL_T_1_3_7/lib/python3.7/site-packages (1.19.1)\n",
      "Collecting package metadata (current_repodata.json): done\n",
      "Solving environment: done\n",
      "\n",
      "\n",
      "==> WARNING: A newer version of conda exists. <==\n",
      "  current version: 4.8.5\n",
      "  latest version: 4.9.2\n",
      "\n",
      "Please update conda by running\n",
      "\n",
      "    $ conda update -n base -c defaults conda\n",
      "\n",
      "\n",
      "\n",
      "# All requested packages already installed.\n",
      "\n",
      "Collecting package metadata (current_repodata.json): done\n",
      "Solving environment: done\n",
      "\n",
      "\n",
      "==> WARNING: A newer version of conda exists. <==\n",
      "  current version: 4.8.5\n",
      "  latest version: 4.9.2\n",
      "\n",
      "Please update conda by running\n",
      "\n",
      "    $ conda update -n base -c defaults conda\n",
      "\n",
      "\n",
      "\n",
      "# All requested packages already installed.\n",
      "\n"
     ]
    }
   ],
   "source": [
    "!pip install plotly\n",
    "!pip install numpy\n",
    "!conda install -c plotly plotly-orca -y\n",
    "!conda install psutil -y"
   ]
  },
  {
   "cell_type": "code",
   "execution_count": 2,
   "metadata": {
    "id": "WkB5NZxnvSfU"
   },
   "outputs": [],
   "source": [
    "import torch\n",
    "import random\n",
    "import numpy as np\n",
    "import torch.nn as nn\n",
    "import torch.optim as optim\n",
    "from torchvision.datasets import MNIST\n",
    "from torchvision.transforms import ToTensor\n",
    "from torch.utils.data import Dataset, DataLoader\n",
    "from utils.GeneticEngine import GeneticEngine\n",
    "\n",
    "import plotly.graph_objects as go\n",
    "import plotly.io as pio\n",
    "pio.renderers.default='svg'"
   ]
  },
  {
   "cell_type": "code",
   "execution_count": 3,
   "metadata": {
    "id": "FeWmmNXbylR1"
   },
   "outputs": [],
   "source": [
    "def decode_individual(individual):\n",
    "  return \"\".join([chr(x) for x in individual])\n",
    "\n",
    "def fitness_method(individual):\n",
    "  solution = decode_individual(individual)\n",
    "  desired_solution = 'neuralnetworkoptimizer'\n",
    "  matches = 0\n",
    "  for i in range(len(solution)):\n",
    "    if (solution[i] == desired_solution[i]):\n",
    "      matches += 1\n",
    "  return matches\n",
    "\n",
    "def generate_individual():\n",
    "    prospect = []\n",
    "    for i in range(0, len('neuralnetworkoptimizer')):\n",
    "      ascii = random.randint(97, 122)\n",
    "      prospect.append(ascii)\n",
    "    return prospect\n",
    "\n",
    "def mutate_individual(individual):\n",
    "  idx_to_modify = random.randint(0, len(individual)-1)\n",
    "  individual[idx_to_modify] = random.randint(97, 122)\n",
    "  return individual\n",
    "\n",
    "def end_criteria(current_max_result):\n",
    "  return current_max_result == len('neuralnetworkoptimizer')"
   ]
  },
  {
   "cell_type": "code",
   "execution_count": 8,
   "metadata": {
    "colab": {
     "base_uri": "https://localhost:8080/",
     "height": 493
    },
    "id": "jmOXlxDNJJ2E",
    "outputId": "eaba7fba-8b4e-4c81-dd70-fb231ab17165"
   },
   "outputs": [
    {
     "name": "stdout",
     "output_type": "stream",
     "text": [
      "Generation: 1\n",
      "Evaluation\n",
      "\t- Selection,Reproduction & Mutation\n",
      "Generation: 2\n",
      "Evaluation\n",
      "\t- Selection,Reproduction & Mutation\n",
      "Generation: 3\n",
      "Evaluation\n",
      "\t- Selection,Reproduction & Mutation\n",
      "Generation: 4\n",
      "Evaluation\n",
      "\t- Selection,Reproduction & Mutation\n",
      "Generation: 5\n",
      "Evaluation\n",
      "\t- Selection,Reproduction & Mutation\n",
      "Generation: 6\n",
      "Evaluation\n",
      "\t- Selection,Reproduction & Mutation\n",
      "Generation: 7\n",
      "Evaluation\n",
      "\t- Selection,Reproduction & Mutation\n",
      "Generation: 8\n",
      "Evaluation\n",
      "\t- Selection,Reproduction & Mutation\n",
      "Generation: 9\n",
      "Evaluation\n",
      "\t- Selection,Reproduction & Mutation\n",
      "Generation: 10\n",
      "Evaluation\n",
      "\t- Selection,Reproduction & Mutation\n",
      "Generation: 11\n",
      "Evaluation\n",
      "\t- Selection,Reproduction & Mutation\n",
      "Generation: 12\n",
      "Evaluation\n",
      "\t- Selection,Reproduction & Mutation\n",
      "Generation: 13\n",
      "Evaluation\n",
      "\t- Selection,Reproduction & Mutation\n",
      "Generation: 14\n",
      "Evaluation\n",
      "\t- Selection,Reproduction & Mutation\n",
      "Generation: 15\n",
      "Evaluation\n",
      "Criteria met\n"
     ]
    },
    {
     "data": {
      "text/plain": [
       "([110,\n",
       "  101,\n",
       "  117,\n",
       "  114,\n",
       "  97,\n",
       "  108,\n",
       "  110,\n",
       "  101,\n",
       "  116,\n",
       "  119,\n",
       "  111,\n",
       "  114,\n",
       "  107,\n",
       "  111,\n",
       "  112,\n",
       "  116,\n",
       "  105,\n",
       "  109,\n",
       "  105,\n",
       "  122,\n",
       "  101,\n",
       "  114],\n",
       " 22)"
      ]
     },
     "execution_count": 8,
     "metadata": {},
     "output_type": "execute_result"
    }
   ],
   "source": [
    "GE = GeneticEngine(2000,len('neuralnetworkoptimizer'),generate_individual,\"tournament\",\"crossover\",mutate_individual,0.2,fitness_method,end_criteria)\n",
    "GE.run(100)"
   ]
  },
  {
   "cell_type": "code",
   "execution_count": 10,
   "metadata": {
    "colab": {
     "base_uri": "https://localhost:8080/",
     "height": 542
    },
    "id": "Re5AtSlUV_KS",
    "outputId": "f8415166-7ef9-4244-f371-598a270fbae6"
   },
   "outputs": [
    {
     "data": {
      "image/svg+xml": [
       "<svg class=\"main-svg\" xmlns=\"http://www.w3.org/2000/svg\" xmlns:xlink=\"http://www.w3.org/1999/xlink\" width=\"700\" height=\"450\" style=\"\" viewBox=\"0 0 700 450\"><rect x=\"0\" y=\"0\" width=\"700\" height=\"450\" style=\"fill: rgb(255, 255, 255); fill-opacity: 1;\"/><defs id=\"defs-be1500\"><g class=\"clips\"><clipPath id=\"clipbe1500xyplot\" class=\"plotclip\"><rect width=\"418\" height=\"270\"/></clipPath><clipPath class=\"axesclip\" id=\"clipbe1500x\"><rect x=\"107\" y=\"0\" width=\"418\" height=\"450\"/></clipPath><clipPath class=\"axesclip\" id=\"clipbe1500y\"><rect x=\"0\" y=\"100\" width=\"700\" height=\"270\"/></clipPath><clipPath class=\"axesclip\" id=\"clipbe1500xy\"><rect x=\"107\" y=\"100\" width=\"418\" height=\"270\"/></clipPath></g><g class=\"gradients\"/></defs><g class=\"bglayer\"><rect class=\"bg\" x=\"107\" y=\"100\" width=\"418\" height=\"270\" style=\"fill: rgb(229, 236, 246); fill-opacity: 1; stroke-width: 0;\"/></g><g class=\"layer-below\"><g class=\"imagelayer\"/><g class=\"shapelayer\"/></g><g class=\"cartesianlayer\"><g class=\"subplot xy\"><g class=\"layer-subplot\"><g class=\"shapelayer\"/><g class=\"imagelayer\"/></g><g class=\"gridlayer\"><g class=\"x\"><path class=\"xgrid crisp\" transform=\"translate(263.33000000000004,0)\" d=\"M0,100v270\" style=\"stroke: rgb(255, 255, 255); stroke-opacity: 1; stroke-width: 1px;\"/><path class=\"xgrid crisp\" transform=\"translate(395.01,0)\" d=\"M0,100v270\" style=\"stroke: rgb(255, 255, 255); stroke-opacity: 1; stroke-width: 1px;\"/></g><g class=\"y\"><path class=\"ygrid crisp\" transform=\"translate(0,299.23)\" d=\"M107,0h418\" style=\"stroke: rgb(255, 255, 255); stroke-opacity: 1; stroke-width: 1px;\"/><path class=\"ygrid crisp\" transform=\"translate(0,245.7)\" d=\"M107,0h418\" style=\"stroke: rgb(255, 255, 255); stroke-opacity: 1; stroke-width: 1px;\"/><path class=\"ygrid crisp\" transform=\"translate(0,192.18)\" d=\"M107,0h418\" style=\"stroke: rgb(255, 255, 255); stroke-opacity: 1; stroke-width: 1px;\"/><path class=\"ygrid crisp\" transform=\"translate(0,138.66)\" d=\"M107,0h418\" style=\"stroke: rgb(255, 255, 255); stroke-opacity: 1; stroke-width: 1px;\"/></g></g><g class=\"zerolinelayer\"><path class=\"xzl zl crisp\" transform=\"translate(131.65,0)\" d=\"M0,100v270\" style=\"stroke: rgb(255, 255, 255); stroke-opacity: 1; stroke-width: 2px;\"/><path class=\"yzl zl crisp\" transform=\"translate(0,352.75)\" d=\"M107,0h418\" style=\"stroke: rgb(255, 255, 255); stroke-opacity: 1; stroke-width: 2px;\"/></g><path class=\"xlines-below\"/><path class=\"ylines-below\"/><g class=\"overlines-below\"/><g class=\"xaxislayer-below\"/><g class=\"yaxislayer-below\"/><g class=\"overaxes-below\"/><g class=\"plot\" transform=\"translate(107, 100)\" clip-path=\"url('#clipbe1500xyplot')\"><g class=\"scatterlayer mlayer\"><g class=\"trace scatter traceb872ef\" style=\"stroke-miterlimit: 2; opacity: 1;\"><g class=\"fills\"/><g class=\"errorbars\"/><g class=\"lines\"><path class=\"js-line\" d=\"M24.65,199.23L103.66,167.11L129.99,145.7L182.66,124.3L209,92.18L235.34,81.48L261.67,60.07L288.01,60.07L314.34,49.36L393.35,17.25\" style=\"vector-effect: non-scaling-stroke; fill: none; stroke: rgb(255, 0, 0); stroke-opacity: 1; stroke-width: 1px; opacity: 1;\"/></g><g class=\"points\"><path class=\"point\" transform=\"translate(24.65,199.23)\" d=\"M3,0A3,3 0 1,1 0,-3A3,3 0 0,1 3,0Z\" style=\"opacity: 1; stroke-width: 0px; fill: rgb(255, 0, 0); fill-opacity: 1;\"/><path class=\"point\" transform=\"translate(50.99,188.52)\" d=\"M3,0A3,3 0 1,1 0,-3A3,3 0 0,1 3,0Z\" style=\"opacity: 1; stroke-width: 0px; fill: rgb(255, 0, 0); fill-opacity: 1;\"/><path class=\"point\" transform=\"translate(77.32,177.82)\" d=\"M3,0A3,3 0 1,1 0,-3A3,3 0 0,1 3,0Z\" style=\"opacity: 1; stroke-width: 0px; fill: rgb(255, 0, 0); fill-opacity: 1;\"/><path class=\"point\" transform=\"translate(103.66,167.11)\" d=\"M3,0A3,3 0 1,1 0,-3A3,3 0 0,1 3,0Z\" style=\"opacity: 1; stroke-width: 0px; fill: rgb(255, 0, 0); fill-opacity: 1;\"/><path class=\"point\" transform=\"translate(129.99,145.7)\" d=\"M3,0A3,3 0 1,1 0,-3A3,3 0 0,1 3,0Z\" style=\"opacity: 1; stroke-width: 0px; fill: rgb(255, 0, 0); fill-opacity: 1;\"/><path class=\"point\" transform=\"translate(156.33,135)\" d=\"M3,0A3,3 0 1,1 0,-3A3,3 0 0,1 3,0Z\" style=\"opacity: 1; stroke-width: 0px; fill: rgb(255, 0, 0); fill-opacity: 1;\"/><path class=\"point\" transform=\"translate(182.66,124.3)\" d=\"M3,0A3,3 0 1,1 0,-3A3,3 0 0,1 3,0Z\" style=\"opacity: 1; stroke-width: 0px; fill: rgb(255, 0, 0); fill-opacity: 1;\"/><path class=\"point\" transform=\"translate(209,92.18)\" d=\"M3,0A3,3 0 1,1 0,-3A3,3 0 0,1 3,0Z\" style=\"opacity: 1; stroke-width: 0px; fill: rgb(255, 0, 0); fill-opacity: 1;\"/><path class=\"point\" transform=\"translate(235.34,81.48)\" d=\"M3,0A3,3 0 1,1 0,-3A3,3 0 0,1 3,0Z\" style=\"opacity: 1; stroke-width: 0px; fill: rgb(255, 0, 0); fill-opacity: 1;\"/><path class=\"point\" transform=\"translate(261.67,60.07)\" d=\"M3,0A3,3 0 1,1 0,-3A3,3 0 0,1 3,0Z\" style=\"opacity: 1; stroke-width: 0px; fill: rgb(255, 0, 0); fill-opacity: 1;\"/><path class=\"point\" transform=\"translate(288.01,60.07)\" d=\"M3,0A3,3 0 1,1 0,-3A3,3 0 0,1 3,0Z\" style=\"opacity: 1; stroke-width: 0px; fill: rgb(255, 0, 0); fill-opacity: 1;\"/><path class=\"point\" transform=\"translate(314.34,49.36)\" d=\"M3,0A3,3 0 1,1 0,-3A3,3 0 0,1 3,0Z\" style=\"opacity: 1; stroke-width: 0px; fill: rgb(255, 0, 0); fill-opacity: 1;\"/><path class=\"point\" transform=\"translate(340.68,38.66)\" d=\"M3,0A3,3 0 1,1 0,-3A3,3 0 0,1 3,0Z\" style=\"opacity: 1; stroke-width: 0px; fill: rgb(255, 0, 0); fill-opacity: 1;\"/><path class=\"point\" transform=\"translate(367.01,27.95)\" d=\"M3,0A3,3 0 1,1 0,-3A3,3 0 0,1 3,0Z\" style=\"opacity: 1; stroke-width: 0px; fill: rgb(255, 0, 0); fill-opacity: 1;\"/><path class=\"point\" transform=\"translate(393.35,17.25)\" d=\"M3,0A3,3 0 1,1 0,-3A3,3 0 0,1 3,0Z\" style=\"opacity: 1; stroke-width: 0px; fill: rgb(255, 0, 0); fill-opacity: 1;\"/></g><g class=\"text\"/></g><g class=\"trace scatter trace9b4638\" style=\"stroke-miterlimit: 2; opacity: 1;\"><g class=\"fills\"/><g class=\"errorbars\"/><g class=\"lines\"><path class=\"js-line\" d=\"M24.65,243.74L50.99,233.31L77.32,221.71L103.66,209.48L129.99,196.41L209,152.26L235.34,136.02L288.01,104.94L314.34,91.12L340.68,78.3L367.01,66.61L393.35,55.89\" style=\"vector-effect: non-scaling-stroke; fill: none; stroke: rgb(0, 255, 0); stroke-opacity: 1; stroke-width: 1px; opacity: 1;\"/></g><g class=\"points\"><path class=\"point\" transform=\"translate(24.65,243.74)\" d=\"M3,0A3,3 0 1,1 0,-3A3,3 0 0,1 3,0Z\" style=\"opacity: 1; stroke-width: 0px; fill: rgb(0, 255, 0); fill-opacity: 1;\"/><path class=\"point\" transform=\"translate(50.99,233.31)\" d=\"M3,0A3,3 0 1,1 0,-3A3,3 0 0,1 3,0Z\" style=\"opacity: 1; stroke-width: 0px; fill: rgb(0, 255, 0); fill-opacity: 1;\"/><path class=\"point\" transform=\"translate(77.32,221.71)\" d=\"M3,0A3,3 0 1,1 0,-3A3,3 0 0,1 3,0Z\" style=\"opacity: 1; stroke-width: 0px; fill: rgb(0, 255, 0); fill-opacity: 1;\"/><path class=\"point\" transform=\"translate(103.66,209.48)\" d=\"M3,0A3,3 0 1,1 0,-3A3,3 0 0,1 3,0Z\" style=\"opacity: 1; stroke-width: 0px; fill: rgb(0, 255, 0); fill-opacity: 1;\"/><path class=\"point\" transform=\"translate(129.99,196.41)\" d=\"M3,0A3,3 0 1,1 0,-3A3,3 0 0,1 3,0Z\" style=\"opacity: 1; stroke-width: 0px; fill: rgb(0, 255, 0); fill-opacity: 1;\"/><path class=\"point\" transform=\"translate(156.33,181.88)\" d=\"M3,0A3,3 0 1,1 0,-3A3,3 0 0,1 3,0Z\" style=\"opacity: 1; stroke-width: 0px; fill: rgb(0, 255, 0); fill-opacity: 1;\"/><path class=\"point\" transform=\"translate(182.66,167.35)\" d=\"M3,0A3,3 0 1,1 0,-3A3,3 0 0,1 3,0Z\" style=\"opacity: 1; stroke-width: 0px; fill: rgb(0, 255, 0); fill-opacity: 1;\"/><path class=\"point\" transform=\"translate(209,152.26)\" d=\"M3,0A3,3 0 1,1 0,-3A3,3 0 0,1 3,0Z\" style=\"opacity: 1; stroke-width: 0px; fill: rgb(0, 255, 0); fill-opacity: 1;\"/><path class=\"point\" transform=\"translate(235.34,136.02)\" d=\"M3,0A3,3 0 1,1 0,-3A3,3 0 0,1 3,0Z\" style=\"opacity: 1; stroke-width: 0px; fill: rgb(0, 255, 0); fill-opacity: 1;\"/><path class=\"point\" transform=\"translate(261.67,120.81)\" d=\"M3,0A3,3 0 1,1 0,-3A3,3 0 0,1 3,0Z\" style=\"opacity: 1; stroke-width: 0px; fill: rgb(0, 255, 0); fill-opacity: 1;\"/><path class=\"point\" transform=\"translate(288.01,104.94)\" d=\"M3,0A3,3 0 1,1 0,-3A3,3 0 0,1 3,0Z\" style=\"opacity: 1; stroke-width: 0px; fill: rgb(0, 255, 0); fill-opacity: 1;\"/><path class=\"point\" transform=\"translate(314.34,91.12)\" d=\"M3,0A3,3 0 1,1 0,-3A3,3 0 0,1 3,0Z\" style=\"opacity: 1; stroke-width: 0px; fill: rgb(0, 255, 0); fill-opacity: 1;\"/><path class=\"point\" transform=\"translate(340.68,78.3)\" d=\"M3,0A3,3 0 1,1 0,-3A3,3 0 0,1 3,0Z\" style=\"opacity: 1; stroke-width: 0px; fill: rgb(0, 255, 0); fill-opacity: 1;\"/><path class=\"point\" transform=\"translate(367.01,66.61)\" d=\"M3,0A3,3 0 1,1 0,-3A3,3 0 0,1 3,0Z\" style=\"opacity: 1; stroke-width: 0px; fill: rgb(0, 255, 0); fill-opacity: 1;\"/><path class=\"point\" transform=\"translate(393.35,55.89)\" d=\"M3,0A3,3 0 1,1 0,-3A3,3 0 0,1 3,0Z\" style=\"opacity: 1; stroke-width: 0px; fill: rgb(0, 255, 0); fill-opacity: 1;\"/></g><g class=\"text\"/></g><g class=\"trace scatter traceaec88a\" style=\"stroke-miterlimit: 2; opacity: 1;\"><g class=\"fills\"/><g class=\"errorbars\"/><g class=\"lines\"><path class=\"js-line\" d=\"M24.65,252.75L77.32,252.75L103.66,242.05L129.99,242.05L156.33,220.64L182.66,209.93L209,209.93L235.34,188.52L261.67,177.82L288.01,145.7L314.34,145.7L340.68,124.3L367.01,113.59L393.35,102.89\" style=\"vector-effect: non-scaling-stroke; fill: none; stroke: rgb(0, 0, 255); stroke-opacity: 1; stroke-width: 1px; opacity: 1;\"/></g><g class=\"points\"><path class=\"point\" transform=\"translate(24.65,252.75)\" d=\"M3,0A3,3 0 1,1 0,-3A3,3 0 0,1 3,0Z\" style=\"opacity: 1; stroke-width: 0px; fill: rgb(0, 0, 255); fill-opacity: 1;\"/><path class=\"point\" transform=\"translate(50.99,252.75)\" d=\"M3,0A3,3 0 1,1 0,-3A3,3 0 0,1 3,0Z\" style=\"opacity: 1; stroke-width: 0px; fill: rgb(0, 0, 255); fill-opacity: 1;\"/><path class=\"point\" transform=\"translate(77.32,252.75)\" d=\"M3,0A3,3 0 1,1 0,-3A3,3 0 0,1 3,0Z\" style=\"opacity: 1; stroke-width: 0px; fill: rgb(0, 0, 255); fill-opacity: 1;\"/><path class=\"point\" transform=\"translate(103.66,242.05)\" d=\"M3,0A3,3 0 1,1 0,-3A3,3 0 0,1 3,0Z\" style=\"opacity: 1; stroke-width: 0px; fill: rgb(0, 0, 255); fill-opacity: 1;\"/><path class=\"point\" transform=\"translate(129.99,242.05)\" d=\"M3,0A3,3 0 1,1 0,-3A3,3 0 0,1 3,0Z\" style=\"opacity: 1; stroke-width: 0px; fill: rgb(0, 0, 255); fill-opacity: 1;\"/><path class=\"point\" transform=\"translate(156.33,220.64)\" d=\"M3,0A3,3 0 1,1 0,-3A3,3 0 0,1 3,0Z\" style=\"opacity: 1; stroke-width: 0px; fill: rgb(0, 0, 255); fill-opacity: 1;\"/><path class=\"point\" transform=\"translate(182.66,209.93)\" d=\"M3,0A3,3 0 1,1 0,-3A3,3 0 0,1 3,0Z\" style=\"opacity: 1; stroke-width: 0px; fill: rgb(0, 0, 255); fill-opacity: 1;\"/><path class=\"point\" transform=\"translate(209,209.93)\" d=\"M3,0A3,3 0 1,1 0,-3A3,3 0 0,1 3,0Z\" style=\"opacity: 1; stroke-width: 0px; fill: rgb(0, 0, 255); fill-opacity: 1;\"/><path class=\"point\" transform=\"translate(235.34,188.52)\" d=\"M3,0A3,3 0 1,1 0,-3A3,3 0 0,1 3,0Z\" style=\"opacity: 1; stroke-width: 0px; fill: rgb(0, 0, 255); fill-opacity: 1;\"/><path class=\"point\" transform=\"translate(261.67,177.82)\" d=\"M3,0A3,3 0 1,1 0,-3A3,3 0 0,1 3,0Z\" style=\"opacity: 1; stroke-width: 0px; fill: rgb(0, 0, 255); fill-opacity: 1;\"/><path class=\"point\" transform=\"translate(288.01,145.7)\" d=\"M3,0A3,3 0 1,1 0,-3A3,3 0 0,1 3,0Z\" style=\"opacity: 1; stroke-width: 0px; fill: rgb(0, 0, 255); fill-opacity: 1;\"/><path class=\"point\" transform=\"translate(314.34,145.7)\" d=\"M3,0A3,3 0 1,1 0,-3A3,3 0 0,1 3,0Z\" style=\"opacity: 1; stroke-width: 0px; fill: rgb(0, 0, 255); fill-opacity: 1;\"/><path class=\"point\" transform=\"translate(340.68,124.3)\" d=\"M3,0A3,3 0 1,1 0,-3A3,3 0 0,1 3,0Z\" style=\"opacity: 1; stroke-width: 0px; fill: rgb(0, 0, 255); fill-opacity: 1;\"/><path class=\"point\" transform=\"translate(367.01,113.59)\" d=\"M3,0A3,3 0 1,1 0,-3A3,3 0 0,1 3,0Z\" style=\"opacity: 1; stroke-width: 0px; fill: rgb(0, 0, 255); fill-opacity: 1;\"/><path class=\"point\" transform=\"translate(393.35,102.89)\" d=\"M3,0A3,3 0 1,1 0,-3A3,3 0 0,1 3,0Z\" style=\"opacity: 1; stroke-width: 0px; fill: rgb(0, 0, 255); fill-opacity: 1;\"/></g><g class=\"text\"/></g></g></g><g class=\"overplot\"/><path class=\"xlines-above crisp\" d=\"M0,0\" style=\"fill: none;\"/><path class=\"ylines-above crisp\" d=\"M0,0\" style=\"fill: none;\"/><g class=\"overlines-above\"/><g class=\"xaxislayer-above\"><g class=\"xtick\"><text text-anchor=\"middle\" x=\"0\" y=\"385\" transform=\"translate(131.65,0)\" style=\"font-family: 'Courier New', monospace; font-size: 14px; fill: rgb(127, 127, 127); fill-opacity: 1; white-space: pre;\">0</text></g><g class=\"xtick\"><text text-anchor=\"middle\" x=\"0\" y=\"385\" transform=\"translate(263.33000000000004,0)\" style=\"font-family: 'Courier New', monospace; font-size: 14px; fill: rgb(127, 127, 127); fill-opacity: 1; white-space: pre;\">5</text></g><g class=\"xtick\"><text text-anchor=\"middle\" x=\"0\" y=\"385\" transform=\"translate(395.01,0)\" style=\"font-family: 'Courier New', monospace; font-size: 14px; fill: rgb(127, 127, 127); fill-opacity: 1; white-space: pre;\">10</text></g></g><g class=\"yaxislayer-above\"><g class=\"ytick\"><text text-anchor=\"end\" x=\"106\" y=\"4.8999999999999995\" transform=\"translate(0,352.75)\" style=\"font-family: 'Courier New', monospace; font-size: 14px; fill: rgb(127, 127, 127); fill-opacity: 1; white-space: pre;\">0.00000</text></g><g class=\"ytick\"><text text-anchor=\"end\" x=\"106\" y=\"4.8999999999999995\" transform=\"translate(0,299.23)\" style=\"font-family: 'Courier New', monospace; font-size: 14px; fill: rgb(127, 127, 127); fill-opacity: 1; white-space: pre;\">5.00000</text></g><g class=\"ytick\"><text text-anchor=\"end\" x=\"106\" y=\"4.8999999999999995\" transform=\"translate(0,245.7)\" style=\"font-family: 'Courier New', monospace; font-size: 14px; fill: rgb(127, 127, 127); fill-opacity: 1; white-space: pre;\">10.00000</text></g><g class=\"ytick\"><text text-anchor=\"end\" x=\"106\" y=\"4.8999999999999995\" transform=\"translate(0,192.18)\" style=\"font-family: 'Courier New', monospace; font-size: 14px; fill: rgb(127, 127, 127); fill-opacity: 1; white-space: pre;\">15.00000</text></g><g class=\"ytick\"><text text-anchor=\"end\" x=\"106\" y=\"4.8999999999999995\" transform=\"translate(0,138.66)\" style=\"font-family: 'Courier New', monospace; font-size: 14px; fill: rgb(127, 127, 127); fill-opacity: 1; white-space: pre;\">20.00000</text></g></g><g class=\"overaxes-above\"/></g></g><g class=\"polarlayer\"/><g class=\"ternarylayer\"/><g class=\"geolayer\"/><g class=\"funnelarealayer\"/><g class=\"pielayer\"/><g class=\"treemaplayer\"/><g class=\"sunburstlayer\"/><g class=\"glimages\"/><defs id=\"topdefs-be1500\"><g class=\"clips\"/><clipPath id=\"legendbe1500\"><rect width=\"155\" height=\"74\" x=\"0\" y=\"0\"/></clipPath></defs><g class=\"layer-above\"><g class=\"imagelayer\"/><g class=\"shapelayer\"/></g><g class=\"infolayer\"><g class=\"legend\" pointer-events=\"all\" transform=\"translate(533.36, 100)\"><rect class=\"bg\" shape-rendering=\"crispEdges\" width=\"155\" height=\"74\" x=\"0\" y=\"0\" style=\"stroke: rgb(68, 68, 68); stroke-opacity: 1; fill: rgb(255, 255, 255); fill-opacity: 1; stroke-width: 0px;\"/><g class=\"scrollbox\" transform=\"translate(0, 0)\" clip-path=\"url('#legendbe1500')\"><g class=\"groups\"><g class=\"traces\" transform=\"translate(0, 15.6)\" style=\"opacity: 1;\"><text class=\"legendtext\" text-anchor=\"start\" x=\"40\" y=\"5.46\" style=\"font-family: 'Courier New', monospace; font-size: 14px; fill: rgb(127, 127, 127); fill-opacity: 1; white-space: pre;\">Best Fitness</text><g class=\"layers\" style=\"opacity: 1;\"><g class=\"legendfill\"/><g class=\"legendlines\"><path class=\"js-line\" d=\"M5,0h30\" style=\"fill: none; stroke: rgb(255, 0, 0); stroke-opacity: 1; stroke-width: 1px;\"/></g><g class=\"legendsymbols\"><g class=\"legendpoints\"><path class=\"scatterpts\" transform=\"translate(20,0)\" d=\"M3,0A3,3 0 1,1 0,-3A3,3 0 0,1 3,0Z\" style=\"opacity: 1; stroke-width: 0px; fill: rgb(255, 0, 0); fill-opacity: 1;\"/></g></g></g><rect class=\"legendtoggle\" x=\"0\" y=\"-10.6\" width=\"149.21875\" height=\"21.2\" style=\"fill: rgb(0, 0, 0); fill-opacity: 0;\"/></g><g class=\"traces\" transform=\"translate(0, 36.8)\" style=\"opacity: 1;\"><text class=\"legendtext\" text-anchor=\"start\" x=\"40\" y=\"5.46\" style=\"font-family: 'Courier New', monospace; font-size: 14px; fill: rgb(127, 127, 127); fill-opacity: 1; white-space: pre;\">Avg Fitness</text><g class=\"layers\" style=\"opacity: 1;\"><g class=\"legendfill\"/><g class=\"legendlines\"><path class=\"js-line\" d=\"M5,0h30\" style=\"fill: none; stroke: rgb(0, 255, 0); stroke-opacity: 1; stroke-width: 1px;\"/></g><g class=\"legendsymbols\"><g class=\"legendpoints\"><path class=\"scatterpts\" transform=\"translate(20,0)\" d=\"M3,0A3,3 0 1,1 0,-3A3,3 0 0,1 3,0Z\" style=\"opacity: 1; stroke-width: 0px; fill: rgb(0, 255, 0); fill-opacity: 1;\"/></g></g></g><rect class=\"legendtoggle\" x=\"0\" y=\"-10.6\" width=\"149.21875\" height=\"21.2\" style=\"fill: rgb(0, 0, 0); fill-opacity: 0;\"/></g><g class=\"traces\" transform=\"translate(0, 58)\" style=\"opacity: 1;\"><text class=\"legendtext\" text-anchor=\"start\" x=\"40\" y=\"5.46\" style=\"font-family: 'Courier New', monospace; font-size: 14px; fill: rgb(127, 127, 127); fill-opacity: 1; white-space: pre;\">Worst Fitness</text><g class=\"layers\" style=\"opacity: 1;\"><g class=\"legendfill\"/><g class=\"legendlines\"><path class=\"js-line\" d=\"M5,0h30\" style=\"fill: none; stroke: rgb(0, 0, 255); stroke-opacity: 1; stroke-width: 1px;\"/></g><g class=\"legendsymbols\"><g class=\"legendpoints\"><path class=\"scatterpts\" transform=\"translate(20,0)\" d=\"M3,0A3,3 0 1,1 0,-3A3,3 0 0,1 3,0Z\" style=\"opacity: 1; stroke-width: 0px; fill: rgb(0, 0, 255); fill-opacity: 1;\"/></g></g></g><rect class=\"legendtoggle\" x=\"0\" y=\"-10.6\" width=\"149.21875\" height=\"21.2\" style=\"fill: rgb(0, 0, 0); fill-opacity: 0;\"/></g></g></g><rect class=\"scrollbar\" rx=\"20\" ry=\"3\" width=\"0\" height=\"0\" x=\"0\" y=\"0\" style=\"fill: rgb(128, 139, 164); fill-opacity: 1;\"/></g><g class=\"g-gtitle\"><text class=\"gtitle\" x=\"35\" y=\"50\" text-anchor=\"start\" dy=\"0em\" style=\"font-family: 'Courier New', monospace; font-size: 20px; fill: rgb(127, 127, 127); opacity: 1; font-weight: normal; white-space: pre;\">Fitness chart</text></g><g class=\"g-xtitle\"><text class=\"xtitle\" x=\"316\" y=\"415.9\" text-anchor=\"middle\" style=\"font-family: 'Courier New', monospace; font-size: 17px; fill: rgb(127, 127, 127); opacity: 1; font-weight: normal; white-space: pre;\">Generations</text></g><g class=\"g-ytitle\" transform=\"translate(2.119140625,0)\"><text class=\"ytitle\" transform=\"rotate(-90,11.881249999999994,235)\" x=\"11.881249999999994\" y=\"235\" text-anchor=\"middle\" style=\"font-family: 'Courier New', monospace; font-size: 17px; fill: rgb(127, 127, 127); opacity: 1; font-weight: normal; white-space: pre;\">Number of Matches</text></g></g></svg>"
      ]
     },
     "metadata": {},
     "output_type": "display_data"
    }
   ],
   "source": [
    "def create_figure():\n",
    "    return go.Figure()\n",
    "  \n",
    "def plot_figure(fig, data, color, title):  \n",
    "    \n",
    "    y_axis = data\n",
    "    fig.add_scatter(\n",
    "        y=y_axis,\n",
    "        mode=\"lines+markers\", \n",
    "        textposition=\"bottom center\",\n",
    "        name=title,\n",
    "        line={\"color\": color, \"width\": 1}\n",
    "    )\n",
    "    fig.update_layout(\n",
    "        title=\"Fitness chart\",\n",
    "        xaxis_title=\"Generations\",\n",
    "        yaxis={\"title\": \"Number of Matches\", \"tickformat\": \".5f\"},\n",
    "        font=dict(\n",
    "            family=\"Courier New, monospace\",\n",
    "            size=14,\n",
    "            color=\"#7f7f7f\"\n",
    "        )\n",
    "    )\n",
    "\n",
    "fig = create_figure()\n",
    "\n",
    "plot_figure(fig, GE.historic_max_metric, 'rgb(255,0,0)', 'Best Fitness')\n",
    "plot_figure(fig, GE.historic_mean_metric, 'rgb(0,255,0)', 'Avg Fitness')\n",
    "plot_figure(fig, GE.historic_min_metric, 'rgb(0,0,255)', 'Worst Fitness')\n",
    "    \n",
    "fig.show()\n",
    "\n",
    "\n"
   ]
  },
  {
   "cell_type": "code",
   "execution_count": null,
   "metadata": {},
   "outputs": [],
   "source": []
  }
 ],
 "metadata": {
  "accelerator": "GPU",
  "colab": {
   "collapsed_sections": [],
   "name": "NN_GP_T_2.ipynb",
   "provenance": []
  },
  "kernelspec": {
   "display_name": "Python 3",
   "language": "python",
   "name": "python3"
  },
  "language_info": {
   "codemirror_mode": {
    "name": "ipython",
    "version": 3
   },
   "file_extension": ".py",
   "mimetype": "text/x-python",
   "name": "python",
   "nbconvert_exporter": "python",
   "pygments_lexer": "ipython3",
   "version": "3.7.9"
  }
 },
 "nbformat": 4,
 "nbformat_minor": 1
}
