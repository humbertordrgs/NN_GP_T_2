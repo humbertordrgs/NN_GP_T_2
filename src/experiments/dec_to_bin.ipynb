{
 "cells": [
  {
   "cell_type": "code",
   "execution_count": 7,
   "metadata": {},
   "outputs": [
    {
     "name": "stdout",
     "output_type": "stream",
     "text": [
      "Requirement already satisfied: plotly in /home/humberto/anaconda3/envs/DL_T_1_3_7/lib/python3.7/site-packages (4.13.0)\n",
      "Requirement already satisfied: retrying>=1.3.3 in /home/humberto/anaconda3/envs/DL_T_1_3_7/lib/python3.7/site-packages (from plotly) (1.3.3)\n",
      "Requirement already satisfied: six in /home/humberto/anaconda3/envs/DL_T_1_3_7/lib/python3.7/site-packages (from plotly) (1.15.0)\n",
      "Requirement already satisfied: numpy in /home/humberto/anaconda3/envs/DL_T_1_3_7/lib/python3.7/site-packages (1.19.1)\n",
      "Requirement already satisfied: pytest-xvfb in /home/humberto/anaconda3/envs/DL_T_1_3_7/lib/python3.7/site-packages (2.0.0)\n",
      "Requirement already satisfied: pyvirtualdisplay>=1.3 in /home/humberto/anaconda3/envs/DL_T_1_3_7/lib/python3.7/site-packages (from pytest-xvfb) (1.3.2)\n",
      "Requirement already satisfied: pytest>=2.8.1 in /home/humberto/anaconda3/envs/DL_T_1_3_7/lib/python3.7/site-packages (from pytest-xvfb) (6.1.2)\n",
      "Requirement already satisfied: EasyProcess in /home/humberto/anaconda3/envs/DL_T_1_3_7/lib/python3.7/site-packages (from pyvirtualdisplay>=1.3->pytest-xvfb) (0.3)\n",
      "Requirement already satisfied: toml in /home/humberto/anaconda3/envs/DL_T_1_3_7/lib/python3.7/site-packages (from pytest>=2.8.1->pytest-xvfb) (0.10.2)\n",
      "Requirement already satisfied: packaging in /home/humberto/anaconda3/envs/DL_T_1_3_7/lib/python3.7/site-packages (from pytest>=2.8.1->pytest-xvfb) (20.4)\n",
      "Requirement already satisfied: importlib-metadata>=0.12; python_version < \"3.8\" in /home/humberto/anaconda3/envs/DL_T_1_3_7/lib/python3.7/site-packages (from pytest>=2.8.1->pytest-xvfb) (1.7.0)\n",
      "Requirement already satisfied: iniconfig in /home/humberto/anaconda3/envs/DL_T_1_3_7/lib/python3.7/site-packages (from pytest>=2.8.1->pytest-xvfb) (1.1.1)\n",
      "Requirement already satisfied: py>=1.8.2 in /home/humberto/anaconda3/envs/DL_T_1_3_7/lib/python3.7/site-packages (from pytest>=2.8.1->pytest-xvfb) (1.9.0)\n",
      "Requirement already satisfied: pluggy<1.0,>=0.12 in /home/humberto/anaconda3/envs/DL_T_1_3_7/lib/python3.7/site-packages (from pytest>=2.8.1->pytest-xvfb) (0.13.1)\n",
      "Requirement already satisfied: attrs>=17.4.0 in /home/humberto/anaconda3/envs/DL_T_1_3_7/lib/python3.7/site-packages (from pytest>=2.8.1->pytest-xvfb) (20.2.0)\n",
      "Requirement already satisfied: six in /home/humberto/anaconda3/envs/DL_T_1_3_7/lib/python3.7/site-packages (from packaging->pytest>=2.8.1->pytest-xvfb) (1.15.0)\n",
      "Requirement already satisfied: pyparsing>=2.0.2 in /home/humberto/anaconda3/envs/DL_T_1_3_7/lib/python3.7/site-packages (from packaging->pytest>=2.8.1->pytest-xvfb) (2.4.7)\n",
      "Requirement already satisfied: zipp>=0.5 in /home/humberto/anaconda3/envs/DL_T_1_3_7/lib/python3.7/site-packages (from importlib-metadata>=0.12; python_version < \"3.8\"->pytest>=2.8.1->pytest-xvfb) (3.1.0)\n",
      "Collecting package metadata (current_repodata.json): done\n",
      "Solving environment: done\n",
      "\n",
      "\n",
      "==> WARNING: A newer version of conda exists. <==\n",
      "  current version: 4.8.5\n",
      "  latest version: 4.9.2\n",
      "\n",
      "Please update conda by running\n",
      "\n",
      "    $ conda update -n base -c defaults conda\n",
      "\n",
      "\n",
      "\n",
      "# All requested packages already installed.\n",
      "\n",
      "Collecting package metadata (current_repodata.json): done\n",
      "Solving environment: done\n",
      "\n",
      "\n",
      "==> WARNING: A newer version of conda exists. <==\n",
      "  current version: 4.8.5\n",
      "  latest version: 4.9.2\n",
      "\n",
      "Please update conda by running\n",
      "\n",
      "    $ conda update -n base -c defaults conda\n",
      "\n",
      "\n",
      "\n",
      "# All requested packages already installed.\n",
      "\n"
     ]
    }
   ],
   "source": [
    "!pip install plotly\n",
    "!pip install numpy\n",
    "!pip install pytest-xvfb\n",
    "!conda install -c plotly plotly-orca -y\n",
    "!conda install psutil -y"
   ]
  },
  {
   "cell_type": "code",
   "execution_count": 8,
   "metadata": {
    "id": "WkB5NZxnvSfU"
   },
   "outputs": [],
   "source": [
    "import torch\n",
    "import random\n",
    "import numpy as np\n",
    "import torch.nn as nn\n",
    "import torch.optim as optim\n",
    "from torchvision.datasets import MNIST\n",
    "from torchvision.transforms import ToTensor\n",
    "from torch.utils.data import Dataset, DataLoader\n",
    "from utils.GeneticEngine import GeneticEngine\n",
    "\n",
    "import plotly.graph_objects as go\n",
    "import plotly.io as pio\n",
    "\n",
    "pio.orca.config.use_xvfb = True\n",
    "pio.renderers.default='svg'"
   ]
  },
  {
   "cell_type": "markdown",
   "metadata": {},
   "source": [
    "## Note\n",
    "It is important to note that the fitness method is returning the negative value of the absolute difference between our target and an individual. This is because our `GeneticEngine` is based in a maximization approach for solving tasks, this means a higher fitness value is better."
   ]
  },
  {
   "cell_type": "code",
   "execution_count": 9,
   "metadata": {
    "id": "FeWmmNXbylR1"
   },
   "outputs": [],
   "source": [
    "def decode_individual(individual):\n",
    "  return int(\"0b\" + \"\".join([str(x) for x in individual]),2)\n",
    "\n",
    "def fitness_method(individual):\n",
    "  solution = decode_individual(individual)\n",
    "  desired_solution = 1025\n",
    " \n",
    "  return -abs(solution - desired_solution)\n",
    "\n",
    "def generate_individual():\n",
    "    prospect = []\n",
    "    for i in range(0, len(bin(1025)) - 2):\n",
    "        digit = random.randint(0, 1)\n",
    "        prospect.append(digit)\n",
    "    return prospect\n",
    "\n",
    "def mutate_individual(individual):\n",
    "  idx_to_modify = random.randint(0, len(individual)-1)\n",
    "  individual[idx_to_modify] = random.randint(0, 1)\n",
    "  return individual\n",
    "\n",
    "def end_criteria(current_max_result):\n",
    "  return current_max_result == 0"
   ]
  },
  {
   "cell_type": "code",
   "execution_count": 10,
   "metadata": {
    "colab": {
     "base_uri": "https://localhost:8080/",
     "height": 493
    },
    "id": "jmOXlxDNJJ2E",
    "outputId": "eaba7fba-8b4e-4c81-dd70-fb231ab17165"
   },
   "outputs": [
    {
     "name": "stdout",
     "output_type": "stream",
     "text": [
      "Generation: 1\n",
      "Evaluation\n",
      "\t- Selection,Reproduction & Mutation\n",
      "Generation: 2\n",
      "Evaluation\n",
      "\t- Selection,Reproduction & Mutation\n",
      "Generation: 3\n",
      "Evaluation\n",
      "\t- Selection,Reproduction & Mutation\n",
      "Generation: 4\n",
      "Evaluation\n",
      "\t- Selection,Reproduction & Mutation\n",
      "Generation: 5\n",
      "Evaluation\n",
      "Criteria met\n"
     ]
    },
    {
     "data": {
      "text/plain": [
       "([1, 0, 0, 0, 0, 0, 0, 0, 0, 0, 1], 0)"
      ]
     },
     "execution_count": 10,
     "metadata": {},
     "output_type": "execute_result"
    }
   ],
   "source": [
    "GE = GeneticEngine(100,len(bin(1025)) - 2 ,generate_individual,\"tournament\",\"crossover\",mutate_individual,0.2,fitness_method,end_criteria)\n",
    "GE.run(100)"
   ]
  },
  {
   "cell_type": "code",
   "execution_count": 12,
   "metadata": {
    "colab": {
     "base_uri": "https://localhost:8080/",
     "height": 542
    },
    "id": "Re5AtSlUV_KS",
    "outputId": "f8415166-7ef9-4244-f371-598a270fbae6"
   },
   "outputs": [
    {
     "data": {
      "image/svg+xml": [
       "<svg class=\"main-svg\" xmlns=\"http://www.w3.org/2000/svg\" xmlns:xlink=\"http://www.w3.org/1999/xlink\" width=\"700\" height=\"450\" style=\"\" viewBox=\"0 0 700 450\"><rect x=\"0\" y=\"0\" width=\"700\" height=\"450\" style=\"fill: rgb(255, 255, 255); fill-opacity: 1;\"/><defs id=\"defs-865d21\"><g class=\"clips\"><clipPath id=\"clip865d21xyplot\" class=\"plotclip\"><rect width=\"393\" height=\"270\"/></clipPath><clipPath class=\"axesclip\" id=\"clip865d21x\"><rect x=\"132\" y=\"0\" width=\"393\" height=\"450\"/></clipPath><clipPath class=\"axesclip\" id=\"clip865d21y\"><rect x=\"0\" y=\"100\" width=\"700\" height=\"270\"/></clipPath><clipPath class=\"axesclip\" id=\"clip865d21xy\"><rect x=\"132\" y=\"100\" width=\"393\" height=\"270\"/></clipPath></g><g class=\"gradients\"/></defs><g class=\"bglayer\"><rect class=\"bg\" x=\"132\" y=\"100\" width=\"393\" height=\"270\" style=\"fill: rgb(229, 236, 246); fill-opacity: 1; stroke-width: 0;\"/></g><g class=\"layer-below\"><g class=\"imagelayer\"/><g class=\"shapelayer\"/></g><g class=\"cartesianlayer\"><g class=\"subplot xy\"><g class=\"layer-subplot\"><g class=\"shapelayer\"/><g class=\"imagelayer\"/></g><g class=\"gridlayer\"><g class=\"x\"><path class=\"xgrid crisp\" transform=\"translate(241.95,0)\" d=\"M0,100v270\" style=\"stroke: rgb(255, 255, 255); stroke-opacity: 1; stroke-width: 1px;\"/><path class=\"xgrid crisp\" transform=\"translate(328.5,0)\" d=\"M0,100v270\" style=\"stroke: rgb(255, 255, 255); stroke-opacity: 1; stroke-width: 1px;\"/><path class=\"xgrid crisp\" transform=\"translate(415.05,0)\" d=\"M0,100v270\" style=\"stroke: rgb(255, 255, 255); stroke-opacity: 1; stroke-width: 1px;\"/><path class=\"xgrid crisp\" transform=\"translate(501.6,0)\" d=\"M0,100v270\" style=\"stroke: rgb(255, 255, 255); stroke-opacity: 1; stroke-width: 1px;\"/></g><g class=\"y\"><path class=\"ygrid crisp\" transform=\"translate(0,347.23)\" d=\"M132,0h393\" style=\"stroke: rgb(255, 255, 255); stroke-opacity: 1; stroke-width: 1px;\"/><path class=\"ygrid crisp\" transform=\"translate(0,301.23)\" d=\"M132,0h393\" style=\"stroke: rgb(255, 255, 255); stroke-opacity: 1; stroke-width: 1px;\"/><path class=\"ygrid crisp\" transform=\"translate(0,255.24)\" d=\"M132,0h393\" style=\"stroke: rgb(255, 255, 255); stroke-opacity: 1; stroke-width: 1px;\"/><path class=\"ygrid crisp\" transform=\"translate(0,209.24)\" d=\"M132,0h393\" style=\"stroke: rgb(255, 255, 255); stroke-opacity: 1; stroke-width: 1px;\"/><path class=\"ygrid crisp\" transform=\"translate(0,163.25)\" d=\"M132,0h393\" style=\"stroke: rgb(255, 255, 255); stroke-opacity: 1; stroke-width: 1px;\"/></g></g><g class=\"zerolinelayer\"><path class=\"xzl zl crisp\" transform=\"translate(155.4,0)\" d=\"M0,100v270\" style=\"stroke: rgb(255, 255, 255); stroke-opacity: 1; stroke-width: 2px;\"/><path class=\"yzl zl crisp\" transform=\"translate(0,117.25)\" d=\"M132,0h393\" style=\"stroke: rgb(255, 255, 255); stroke-opacity: 1; stroke-width: 2px;\"/></g><path class=\"xlines-below\"/><path class=\"ylines-below\"/><g class=\"overlines-below\"/><g class=\"xaxislayer-below\"/><g class=\"yaxislayer-below\"/><g class=\"overaxes-below\"/><g class=\"plot\" transform=\"translate(132, 100)\" clip-path=\"url('#clip865d21xyplot')\"><g class=\"scatterlayer mlayer\"><g class=\"trace scatter tracee9fb67\" style=\"stroke-miterlimit: 2; opacity: 1;\"><g class=\"fills\"/><g class=\"errorbars\"/><g class=\"lines\"><path class=\"js-line\" d=\"M23.4,20.7L109.95,17.48L196.5,17.48L369.6,17.25\" style=\"vector-effect: non-scaling-stroke; fill: none; stroke: rgb(255, 0, 0); stroke-opacity: 1; stroke-width: 1px; opacity: 1;\"/></g><g class=\"points\"><path class=\"point\" transform=\"translate(23.4,20.7)\" d=\"M3,0A3,3 0 1,1 0,-3A3,3 0 0,1 3,0Z\" style=\"opacity: 1; stroke-width: 0px; fill: rgb(255, 0, 0); fill-opacity: 1;\"/><path class=\"point\" transform=\"translate(109.95,17.48)\" d=\"M3,0A3,3 0 1,1 0,-3A3,3 0 0,1 3,0Z\" style=\"opacity: 1; stroke-width: 0px; fill: rgb(255, 0, 0); fill-opacity: 1;\"/><path class=\"point\" transform=\"translate(196.5,17.48)\" d=\"M3,0A3,3 0 1,1 0,-3A3,3 0 0,1 3,0Z\" style=\"opacity: 1; stroke-width: 0px; fill: rgb(255, 0, 0); fill-opacity: 1;\"/><path class=\"point\" transform=\"translate(283.05,17.48)\" d=\"M3,0A3,3 0 1,1 0,-3A3,3 0 0,1 3,0Z\" style=\"opacity: 1; stroke-width: 0px; fill: rgb(255, 0, 0); fill-opacity: 1;\"/><path class=\"point\" transform=\"translate(369.6,17.25)\" d=\"M3,0A3,3 0 1,1 0,-3A3,3 0 0,1 3,0Z\" style=\"opacity: 1; stroke-width: 0px; fill: rgb(255, 0, 0); fill-opacity: 1;\"/></g><g class=\"text\"/></g><g class=\"trace scatter trace400f37\" style=\"stroke-miterlimit: 2; opacity: 1;\"><g class=\"fills\"/><g class=\"errorbars\"/><g class=\"lines\"><path class=\"js-line\" d=\"M23.4,133.41L109.95,71.52L196.5,43.23L283.05,35.53L369.6,37.16\" style=\"vector-effect: non-scaling-stroke; fill: none; stroke: rgb(0, 255, 0); stroke-opacity: 1; stroke-width: 1px; opacity: 1;\"/></g><g class=\"points\"><path class=\"point\" transform=\"translate(23.4,133.41)\" d=\"M3,0A3,3 0 1,1 0,-3A3,3 0 0,1 3,0Z\" style=\"opacity: 1; stroke-width: 0px; fill: rgb(0, 255, 0); fill-opacity: 1;\"/><path class=\"point\" transform=\"translate(109.95,71.52)\" d=\"M3,0A3,3 0 1,1 0,-3A3,3 0 0,1 3,0Z\" style=\"opacity: 1; stroke-width: 0px; fill: rgb(0, 255, 0); fill-opacity: 1;\"/><path class=\"point\" transform=\"translate(196.5,43.23)\" d=\"M3,0A3,3 0 1,1 0,-3A3,3 0 0,1 3,0Z\" style=\"opacity: 1; stroke-width: 0px; fill: rgb(0, 255, 0); fill-opacity: 1;\"/><path class=\"point\" transform=\"translate(283.05,35.53)\" d=\"M3,0A3,3 0 1,1 0,-3A3,3 0 0,1 3,0Z\" style=\"opacity: 1; stroke-width: 0px; fill: rgb(0, 255, 0); fill-opacity: 1;\"/><path class=\"point\" transform=\"translate(369.6,37.16)\" d=\"M3,0A3,3 0 1,1 0,-3A3,3 0 0,1 3,0Z\" style=\"opacity: 1; stroke-width: 0px; fill: rgb(0, 255, 0); fill-opacity: 1;\"/></g><g class=\"text\"/></g><g class=\"trace scatter trace9c8076\" style=\"stroke-miterlimit: 2; opacity: 1;\"><g class=\"fills\"/><g class=\"errorbars\"/><g class=\"lines\"><path class=\"js-line\" d=\"M23.4,252.75L109.95,246.31L196.5,252.29L283.05,229.52L369.6,252.52\" style=\"vector-effect: non-scaling-stroke; fill: none; stroke: rgb(0, 0, 255); stroke-opacity: 1; stroke-width: 1px; opacity: 1;\"/></g><g class=\"points\"><path class=\"point\" transform=\"translate(23.4,252.75)\" d=\"M3,0A3,3 0 1,1 0,-3A3,3 0 0,1 3,0Z\" style=\"opacity: 1; stroke-width: 0px; fill: rgb(0, 0, 255); fill-opacity: 1;\"/><path class=\"point\" transform=\"translate(109.95,246.31)\" d=\"M3,0A3,3 0 1,1 0,-3A3,3 0 0,1 3,0Z\" style=\"opacity: 1; stroke-width: 0px; fill: rgb(0, 0, 255); fill-opacity: 1;\"/><path class=\"point\" transform=\"translate(196.5,252.29)\" d=\"M3,0A3,3 0 1,1 0,-3A3,3 0 0,1 3,0Z\" style=\"opacity: 1; stroke-width: 0px; fill: rgb(0, 0, 255); fill-opacity: 1;\"/><path class=\"point\" transform=\"translate(283.05,229.52)\" d=\"M3,0A3,3 0 1,1 0,-3A3,3 0 0,1 3,0Z\" style=\"opacity: 1; stroke-width: 0px; fill: rgb(0, 0, 255); fill-opacity: 1;\"/><path class=\"point\" transform=\"translate(369.6,252.52)\" d=\"M3,0A3,3 0 1,1 0,-3A3,3 0 0,1 3,0Z\" style=\"opacity: 1; stroke-width: 0px; fill: rgb(0, 0, 255); fill-opacity: 1;\"/></g><g class=\"text\"/></g></g></g><g class=\"overplot\"/><path class=\"xlines-above crisp\" style=\"fill: none;\" d=\"M0,0\"/><path class=\"ylines-above crisp\" style=\"fill: none;\" d=\"M0,0\"/><g class=\"overlines-above\"/><g class=\"xaxislayer-above\"><g class=\"xtick\"><text text-anchor=\"middle\" x=\"0\" y=\"385\" transform=\"translate(155.4,0)\" style=\"font-family: 'Courier New', monospace; font-size: 14px; fill: rgb(127, 127, 127); fill-opacity: 1; white-space: pre;\">0</text></g><g class=\"xtick\"><text text-anchor=\"middle\" x=\"0\" y=\"385\" transform=\"translate(241.95,0)\" style=\"font-family: 'Courier New', monospace; font-size: 14px; fill: rgb(127, 127, 127); fill-opacity: 1; white-space: pre;\">50</text></g><g class=\"xtick\"><text text-anchor=\"middle\" x=\"0\" y=\"385\" transform=\"translate(328.5,0)\" style=\"font-family: 'Courier New', monospace; font-size: 14px; fill: rgb(127, 127, 127); fill-opacity: 1; white-space: pre;\">100</text></g><g class=\"xtick\"><text text-anchor=\"middle\" x=\"0\" y=\"385\" transform=\"translate(415.05,0)\" style=\"font-family: 'Courier New', monospace; font-size: 14px; fill: rgb(127, 127, 127); fill-opacity: 1; white-space: pre;\">150</text></g><g class=\"xtick\"><text text-anchor=\"middle\" x=\"0\" y=\"385\" transform=\"translate(501.6,0)\" style=\"font-family: 'Courier New', monospace; font-size: 14px; fill: rgb(127, 127, 127); fill-opacity: 1; white-space: pre;\">200</text></g></g><g class=\"yaxislayer-above\"><g class=\"ytick\"><text text-anchor=\"end\" x=\"131\" y=\"4.8999999999999995\" transform=\"translate(0,347.23)\" style=\"font-family: 'Courier New', monospace; font-size: 14px; fill: rgb(127, 127, 127); fill-opacity: 1; white-space: pre;\">−1000.00000</text></g><g class=\"ytick\"><text text-anchor=\"end\" x=\"131\" y=\"4.8999999999999995\" transform=\"translate(0,301.23)\" style=\"font-family: 'Courier New', monospace; font-size: 14px; fill: rgb(127, 127, 127); fill-opacity: 1; white-space: pre;\">−800.00000</text></g><g class=\"ytick\"><text text-anchor=\"end\" x=\"131\" y=\"4.8999999999999995\" transform=\"translate(0,255.24)\" style=\"font-family: 'Courier New', monospace; font-size: 14px; fill: rgb(127, 127, 127); fill-opacity: 1; white-space: pre;\">−600.00000</text></g><g class=\"ytick\"><text text-anchor=\"end\" x=\"131\" y=\"4.8999999999999995\" transform=\"translate(0,209.24)\" style=\"font-family: 'Courier New', monospace; font-size: 14px; fill: rgb(127, 127, 127); fill-opacity: 1; white-space: pre;\">−400.00000</text></g><g class=\"ytick\"><text text-anchor=\"end\" x=\"131\" y=\"4.8999999999999995\" transform=\"translate(0,163.25)\" style=\"font-family: 'Courier New', monospace; font-size: 14px; fill: rgb(127, 127, 127); fill-opacity: 1; white-space: pre;\">−200.00000</text></g><g class=\"ytick\"><text text-anchor=\"end\" x=\"131\" y=\"4.8999999999999995\" transform=\"translate(0,117.25)\" style=\"font-family: 'Courier New', monospace; font-size: 14px; fill: rgb(127, 127, 127); fill-opacity: 1; white-space: pre;\">0.00000</text></g></g><g class=\"overaxes-above\"/></g></g><g class=\"polarlayer\"/><g class=\"ternarylayer\"/><g class=\"geolayer\"/><g class=\"funnelarealayer\"/><g class=\"pielayer\"/><g class=\"treemaplayer\"/><g class=\"sunburstlayer\"/><g class=\"glimages\"/><defs id=\"topdefs-865d21\"><g class=\"clips\"/><clipPath id=\"legend865d21\"><rect width=\"155\" height=\"74\" x=\"0\" y=\"0\"/></clipPath></defs><g class=\"layer-above\"><g class=\"imagelayer\"/><g class=\"shapelayer\"/></g><g class=\"infolayer\"><g class=\"legend\" pointer-events=\"all\" transform=\"translate(532.86, 100)\"><rect class=\"bg\" shape-rendering=\"crispEdges\" style=\"stroke: rgb(68, 68, 68); stroke-opacity: 1; fill: rgb(255, 255, 255); fill-opacity: 1; stroke-width: 0px;\" width=\"155\" height=\"74\" x=\"0\" y=\"0\"/><g class=\"scrollbox\" transform=\"translate(0, 0)\" clip-path=\"url('#legend865d21')\"><g class=\"groups\"><g class=\"traces\" style=\"opacity: 1;\" transform=\"translate(0, 15.6)\"><text class=\"legendtext\" text-anchor=\"start\" x=\"40\" y=\"5.46\" style=\"font-family: 'Courier New', monospace; font-size: 14px; fill: rgb(127, 127, 127); fill-opacity: 1; white-space: pre;\">Best Fitness</text><g class=\"layers\" style=\"opacity: 1;\"><g class=\"legendfill\"/><g class=\"legendlines\"><path class=\"js-line\" d=\"M5,0h30\" style=\"fill: none; stroke: rgb(255, 0, 0); stroke-opacity: 1; stroke-width: 1px;\"/></g><g class=\"legendsymbols\"><g class=\"legendpoints\"><path class=\"scatterpts\" transform=\"translate(20,0)\" d=\"M3,0A3,3 0 1,1 0,-3A3,3 0 0,1 3,0Z\" style=\"opacity: 1; stroke-width: 0px; fill: rgb(255, 0, 0); fill-opacity: 1;\"/></g></g></g><rect class=\"legendtoggle\" x=\"0\" y=\"-10.6\" width=\"149.21875\" height=\"21.2\" style=\"fill: rgb(0, 0, 0); fill-opacity: 0;\"/></g><g class=\"traces\" style=\"opacity: 1;\" transform=\"translate(0, 36.8)\"><text class=\"legendtext\" text-anchor=\"start\" x=\"40\" y=\"5.46\" style=\"font-family: 'Courier New', monospace; font-size: 14px; fill: rgb(127, 127, 127); fill-opacity: 1; white-space: pre;\">Avg Fitness</text><g class=\"layers\" style=\"opacity: 1;\"><g class=\"legendfill\"/><g class=\"legendlines\"><path class=\"js-line\" d=\"M5,0h30\" style=\"fill: none; stroke: rgb(0, 255, 0); stroke-opacity: 1; stroke-width: 1px;\"/></g><g class=\"legendsymbols\"><g class=\"legendpoints\"><path class=\"scatterpts\" transform=\"translate(20,0)\" d=\"M3,0A3,3 0 1,1 0,-3A3,3 0 0,1 3,0Z\" style=\"opacity: 1; stroke-width: 0px; fill: rgb(0, 255, 0); fill-opacity: 1;\"/></g></g></g><rect class=\"legendtoggle\" x=\"0\" y=\"-10.6\" width=\"149.21875\" height=\"21.2\" style=\"fill: rgb(0, 0, 0); fill-opacity: 0;\"/></g><g class=\"traces\" style=\"opacity: 1;\" transform=\"translate(0, 58)\"><text class=\"legendtext\" text-anchor=\"start\" x=\"40\" y=\"5.46\" style=\"font-family: 'Courier New', monospace; font-size: 14px; fill: rgb(127, 127, 127); fill-opacity: 1; white-space: pre;\">Worst Fitness</text><g class=\"layers\" style=\"opacity: 1;\"><g class=\"legendfill\"/><g class=\"legendlines\"><path class=\"js-line\" d=\"M5,0h30\" style=\"fill: none; stroke: rgb(0, 0, 255); stroke-opacity: 1; stroke-width: 1px;\"/></g><g class=\"legendsymbols\"><g class=\"legendpoints\"><path class=\"scatterpts\" transform=\"translate(20,0)\" d=\"M3,0A3,3 0 1,1 0,-3A3,3 0 0,1 3,0Z\" style=\"opacity: 1; stroke-width: 0px; fill: rgb(0, 0, 255); fill-opacity: 1;\"/></g></g></g><rect class=\"legendtoggle\" x=\"0\" y=\"-10.6\" width=\"149.21875\" height=\"21.2\" style=\"fill: rgb(0, 0, 0); fill-opacity: 0;\"/></g></g></g><rect class=\"scrollbar\" rx=\"20\" ry=\"3\" width=\"0\" height=\"0\" style=\"fill: rgb(128, 139, 164); fill-opacity: 1;\" x=\"0\" y=\"0\"/></g><g class=\"g-gtitle\"><text class=\"gtitle\" x=\"35\" y=\"50\" text-anchor=\"start\" dy=\"0em\" style=\"font-family: 'Courier New', monospace; font-size: 20px; fill: rgb(127, 127, 127); opacity: 1; font-weight: normal; white-space: pre;\">Cost chart</text></g><g class=\"g-xtitle\"><text class=\"xtitle\" x=\"328.5\" y=\"415.9\" text-anchor=\"middle\" style=\"font-family: 'Courier New', monospace; font-size: 17px; fill: rgb(127, 127, 127); opacity: 1; font-weight: normal; white-space: pre;\">Generations</text></g><g class=\"g-ytitle\" transform=\"translate(2.322265625,0)\"><text class=\"ytitle\" transform=\"rotate(-90,11.678124999999994,235)\" x=\"11.678124999999994\" y=\"235\" text-anchor=\"middle\" style=\"font-family: 'Courier New', monospace; font-size: 17px; fill: rgb(127, 127, 127); opacity: 1; font-weight: normal; white-space: pre;\">Worst Fitness</text></g></g></svg>"
      ]
     },
     "metadata": {},
     "output_type": "display_data"
    }
   ],
   "source": [
    "def create_figure():\n",
    "    return go.Figure()\n",
    "  \n",
    "def plot_figure(fig, data, color, title):  \n",
    "    \n",
    "    y_axis = data\n",
    "    fig.add_scatter(\n",
    "        y=y_axis,\n",
    "        mode=\"lines+markers\", \n",
    "        textposition=\"bottom center\",\n",
    "        name=title,\n",
    "        line={\"color\": color, \"width\": 1}\n",
    "    )\n",
    "    fig.update_layout(\n",
    "        title=\"Fitness chart\",\n",
    "        xaxis_title=\"Generations\",\n",
    "        yaxis={\"title\": \"-abs(Goal - Individual)\", \"tickformat\": \".5f\"},\n",
    "        font=dict(\n",
    "            family=\"Courier New, monospace\",\n",
    "            size=14,\n",
    "            color=\"#7f7f7f\"\n",
    "        )\n",
    "    )\n",
    "\n",
    "fig = create_figure()\n",
    "\n",
    "plot_figure(fig, GE.historic_max_metric, 'rgb(255,0,0)', 'Best Fitness')\n",
    "plot_figure(fig, GE.historic_mean_metric, 'rgb(0,255,0)', 'Avg Fitness')\n",
    "plot_figure(fig, GE.historic_min_metric, 'rgb(0,0,255)', 'Worst Fitness')\n",
    "    \n",
    "fig.show()\n",
    "\n",
    "\n"
   ]
  }
 ],
 "metadata": {
  "accelerator": "GPU",
  "colab": {
   "collapsed_sections": [],
   "name": "NN_GP_T_2.ipynb",
   "provenance": []
  },
  "kernelspec": {
   "display_name": "Python 3",
   "language": "python",
   "name": "python3"
  },
  "language_info": {
   "codemirror_mode": {
    "name": "ipython",
    "version": 3
   },
   "file_extension": ".py",
   "mimetype": "text/x-python",
   "name": "python",
   "nbconvert_exporter": "python",
   "pygments_lexer": "ipython3",
   "version": "3.7.9"
  }
 },
 "nbformat": 4,
 "nbformat_minor": 1
}
